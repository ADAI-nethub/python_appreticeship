{
 "cells": [
  {
   "cell_type": "markdown",
   "metadata": {},
   "source": [
    "<div align=\"center\" style=\" font-size: 80%; text-align: center; margin: 0 auto\">\n",
    "<img src=\"https://raw.githubusercontent.com/Explore-AI/Pictures/master/Python-Notebook-Banners/Examples.png\"  style=\"display: block; margin-left: auto; margin-right: auto;\";/>\n",
    "</div>"
   ]
  },
  {
   "cell_type": "markdown",
   "id": "f662d169",
   "metadata": {},
   "source": [
    "# Examples: Introduction to strings\n"
   ]
  },
  {
   "cell_type": "markdown",
   "id": "26af890c",
   "metadata": {},
   "source": [
    "In this train, we'll explore Python strings and their creation as well as special character utilisation. We will also delve into the sequential nature of strings and their immutability."
   ]
  },
  {
   "attachments": {},
   "cell_type": "markdown",
   "id": "2d230d14",
   "metadata": {
    "tags": []
   },
   "source": [
    "## Objectifs pédagogiques\n",
    "\n",
    "Dans cet exemple de notebook, nous allons apprendre à :\n",
    "- Créer des chaînes de caractères en Python à l'aide de guillemets simples et doubles, comprenant des lettres, des chiffres, des symboles et des espaces.\n",
    "- Comprendre l'indexation positive et négative des chaînes de caractères, permettant la récupération de caractères individuels à l'aide de différentes directions de comptage.\n",
    "- Décrire l'immuabilité des chaînes de caractères en Python, en comprenant que les modifications apportées aux chaînes créent de nouvelles instances plutôt que de modifier celles qui existent déjà.\n"
   ]
  },
  {
   "cell_type": "markdown",
   "metadata": {},
   "source": [
    "## Outline\n",
    "  1. [Introduction](#introduction)\n",
    "  2. [Characteristics of strings](#characteristics-of-strings)\n",
    "     * [Sequence of characters](#1-sequence-of-characters)\n",
    "     * [Immutable](#2-immutable)\n",
    "  3. [The `print()` function](#the-print-function)\n",
    "  4. [Special characters](#special-characters)\n",
    "  5. [Examples](#examples)\n",
    "     * [Example 1: String indexing](#example-1-string-indexing)\n",
    "     * [Example 2: String concatenation](#example-2-string-concatenation)\n",
    "     * [Example 3: String manipulation](#example-3-string-manipulation)\n",
    "     * [Example 4: String methods](#example-4-string-methods)\n",
    "  6. [Summary](#summary)"
   ]
  },
  {
   "cell_type": "markdown",
   "metadata": {},
   "source": [
    "## Introduction\n",
    "\n",
    "En Python, une chaîne de caractères est un type de données utilisé pour représenter du texte. \n",
    "\n",
    "Les chaînes de caractères en Python peuvent être créées à l'aide de guillemets simples (`'`) ou doubles (`\"`) et peuvent inclure des lettres, des chiffres, des symboles et même des espaces."
   ]
  },
  {
   "cell_type": "code",
   "execution_count": null,
   "metadata": {},
   "outputs": [],
   "source": [
    "# Example: Creating a string variable\n",
    "\n",
    "single_quotes = 'Creating a string using single quotes.'\n",
    "double_quotes = \"Creating a string using double quotes.\"\n",
    "\n",
    "# Print the variables\n",
    "print(single_quotes)\n",
    "print(double_quotes)"
   ]
  },
  {
   "attachments": {},
   "cell_type": "markdown",
   "metadata": {},
   "source": [
    "## Caractéristiques des chaînes\n",
    "\n",
    "Les deux caractéristiques des chaînes de caractères en Python sont les suivantes :\n",
    "\n",
    "### 1. Séquence de caractères\n",
    "\n",
    "Une chaîne en Python est fondamentalement une séquence de caractères. Cela signifie qu'une chaîne est une collection ordonnée où chaque caractère a une position spécifique ou un index dans la séquence.\n",
    "\n",
    "<div align=\"center\" style=\" font-size: 80%; text-align: center; margin: 0 auto\">\n",
    "    <img src=\"https://raw.githubusercontent.com/Explore-AI/Pictures/master/Python_strings.jpg\"  style=\"width:50%\";/>\n",
    "    <br>\n",
    "    <br>\n",
    "    <em>Figure 1: String – a sequence of characters</em>\n",
    "</div>"
   ]
  },
  {
   "cell_type": "markdown",
   "metadata": {},
   "source": [
    "En Python, l'indexation des chaînes de caractères permet d'accéder à des caractères individuels au sein d'une chaîne.\n",
    "\n",
    "L'indexation positive et l'indexation négative sont deux façons de référencer des caractères dans une chaîne, et elles fournissent différentes façons de compter les positions.\n",
    "\n",
    "<div align=\"center\" style=\" font-size: 80%; text-align: center; margin: 0 auto\">\n",
    "<img src=\"https://raw.githubusercontent.com/Explore-AI/Pictures/master/Python_string_indexing.jpg\"  style=\"width:50%\";/>\n",
    "<br>\n",
    "<br>\n",
    "    <em>Figure 2: Positive and negative indexing</em>\n",
    "</div>"
   ]
  },
  {
   "cell_type": "markdown",
   "metadata": {},
   "source": [
    "**Positive indexing** starts from the beginning of the string, therefore, string characters are accessed from left to right.\n",
    "The first character has an index of 0, the second has an index of 1, and so on."
   ]
  },
  {
   "cell_type": "code",
   "execution_count": null,
   "metadata": {},
   "outputs": [
    {
     "name": "stdout",
     "output_type": "stream",
     "text": [
      "Positive indexing:\n",
      "First character: H\n",
      "Second character: e\n",
      "Last character: !\n"
     ]
    }
   ],
   "source": [
    "# Example: positive indexing\n",
    "my_string = \"Hello, World!\"\n",
    "\n",
    "# Accessing characters using positive indexing\n",
    "first_char = my_string[0]\n",
    "second_char = my_string[1]\n",
    "last_char = my_string[12]\n",
    "\n",
    "print(\"Positive indexing:\")\n",
    "print(\"First character:\", first_char)\n",
    "print(\"Second character:\", second_char)\n",
    "print(\"Last character:\", last_char)"
   ]
  },
  {
   "cell_type": "markdown",
   "metadata": {},
   "source": [
    "**Negative indexing**, on the other hand, starts from the end of the string, which means that characters are accessed from right to left. The last character has an index of -1, the second-to-last has an index of -2, and so on."
   ]
  },
  {
   "cell_type": "code",
   "execution_count": null,
   "metadata": {},
   "outputs": [],
   "source": [
    "# Example: negative indexing\n",
    "# Accessing characters using negative indexing\n",
    "last_char_negative = my_string[-1]\n",
    "second_last_char = my_string[-2]\n",
    "first_char_negative = my_string[-13]\n",
    "\n",
    "print(\"\\nNegative indexing:\")\n",
    "print(\"Last character:\", last_char_negative)\n",
    "print(\"Second last character:\", second_last_char)\n",
    "print(\"First character:\", first_char_negative)"
   ]
  },
  {
   "cell_type": "markdown",
   "metadata": {},
   "source": [
    "Using both positive and negative indexing provides flexibility when working with strings, allowing us to choose the most convenient direction based on our specific task. "
   ]
  },
  {
   "attachments": {},
   "cell_type": "markdown",
   "metadata": {},
   "source": [
    "### 2. Immuable\n",
    "\n",
    "Les chaînes de caractères en Python sont immuables, ce qui signifie qu'une fois qu'une chaîne est créée, elle ne peut plus être modifiée. Cependant, nous pouvons créer de nouvelles chaînes basées sur la chaîne originale.\n",
    "\n",
    "Par exemple, tenter de modifier un caractère à un index spécifique de la chaîne lèvera une `TypeError` car les chaînes ne supportent pas l'assignation d'éléments, ce qui signifie que nous ne pouvons pas changer ou modifier des caractères individuels d'une chaîne une fois qu'elle a été créée."
   ]
  },
  {
   "cell_type": "code",
   "execution_count": null,
   "metadata": {},
   "outputs": [],
   "source": [
    "# Example: immutability\n",
    "\n",
    "original_string = \"Hello, World!\"\n",
    "\n",
    "# The line below gives an error\n",
    "original_string[0] = 'h'"
   ]
  },
  {
   "cell_type": "markdown",
   "metadata": {},
   "source": [
    "Since we cannot modify a string in place, any operation that seems to modify a string actually creates a new string with the modified content. For example, concatenation or slicing operations result in a new string."
   ]
  },
  {
   "cell_type": "code",
   "execution_count": null,
   "metadata": {},
   "outputs": [],
   "source": [
    "# Example: Creating a new string by concatenation\n",
    "\n",
    "original_string = \"Hello\"\n",
    "new_string = original_string + \", World!\"\n",
    "\n",
    "# Print the new variable\n",
    "print(new_string)"
   ]
  },
  {
   "attachments": {},
   "cell_type": "markdown",
   "metadata": {},
   "source": [
    "But hold on, what if we modify the entire string instead of trying to change a specific character within the string? Wouldn't that mute the concept of immutability in strings?"
   ]
  },
  {
   "cell_type": "code",
   "execution_count": null,
   "metadata": {},
   "outputs": [],
   "source": [
    "# Example: Modifying the entire string\n",
    "\n",
    "original_string = \"Hello, World!\"\n",
    "original_string = \"hello. World?\"\n",
    "\n",
    "# The variable's value has changed. \n",
    "# What does this mean for immutability in strings?\n",
    "print(original_string)"
   ]
  },
  {
   "cell_type": "markdown",
   "metadata": {},
   "source": [
    "In the same way we cannot modify individual characters in a string due to its immutability, we also cannot modify the original string in its entirety. Instead, we are creating a new string and assigning it to the variable `original_string`. \n",
    "\n",
    "Here's the breakdown:\n",
    "\n",
    "* `original_string = \"Hello, World!\"`\n",
    "  \n",
    "  This line creates a string object with the value `\"Hello, World!\"` and assigns it to the variable `original_string`.\n",
    "\n",
    "* `original_string = \"hello. World?\"`\n",
    "  \n",
    "  This line then creates a new string object with the value `\"hello. World?\"` and assigns it to the same variable `original_string`. \n",
    "  \n",
    "  This does not modify the original string `\"Hello, World!\"` in place. Instead, it *rebinds* the variable `original_string` to a new string object.\n",
    "\n",
    "* `print(original_string)`\n",
    "  \n",
    "  Consequently, this line prints the current value of `original_string`, which is the most recent string assigned to it: `\"hello. World?\"`."
   ]
  },
  {
   "cell_type": "markdown",
   "metadata": {},
   "source": [
    "## La fonction `print()`\n",
    "La fonction `print()` en Python est un outil polyvalent qui nous permet d'afficher des informations sur la console. Elle est essentielle pour le débogage, l'affichage des résultats et la communication avec les utilisateurs. Dans cette section, nous allons approfondir les bases de l'utilisation de la fonction `print()`, en montrant son utilité pour l'impression de variables et de chaînes de caractères, et comment elle peut être utilisée pour imprimer des sorties multilignes afin d'améliorer la lisibilité.\n",
    "La fonction `print()` est simple à utiliser. Elle prend un ou plusieurs arguments et les affiche sur la console. Commençons par un exemple simple :\n",
    "\n"
   ]
  },
  {
   "cell_type": "code",
   "execution_count": null,
   "metadata": {},
   "outputs": [],
   "source": [
    "# Example: basic use of print()\n",
    "\n",
    "print(\"Hello, Python!\")"
   ]
  },
  {
   "cell_type": "markdown",
   "metadata": {},
   "source": [
    "We'll often need to display the values stored in variables or combine them with strings for meaningful output."
   ]
  },
  {
   "cell_type": "code",
   "execution_count": null,
   "metadata": {},
   "outputs": [],
   "source": [
    "# Example: combining strings and variables\n",
    "\n",
    "name = \"Alice\"\n",
    "age = 25\n",
    "\n",
    "print(\"Name:\", name)\n",
    "print(\"Age:\", age)"
   ]
  },
  {
   "cell_type": "markdown",
   "metadata": {},
   "source": [
    "To enhance the readability of output, especially when dealing with complex information or structured data, multiline outputs are beneficial. Python allows for multiline strings using triple quotes (`'''` or `\"\"\"`):"
   ]
  },
  {
   "cell_type": "code",
   "execution_count": null,
   "metadata": {},
   "outputs": [],
   "source": [
    "# Example: printing multiline output\n",
    "\n",
    "multiline_text = '''This is a multiline string.\n",
    "It spans multiple lines.\n",
    "Printed using the print() function.'''\n",
    "print(multiline_text)"
   ]
  },
  {
   "cell_type": "markdown",
   "metadata": {},
   "source": [
    "## Special characters\n",
    "\n",
    "Special characters play a crucial role in enhancing the flexibility and expressiveness of strings. They are characters that, when included in a string, carry a specific meaning beyond their literal representation. Some common special characters include:\n",
    "\n",
    "| Character | Name | Function |\n",
    "|---|---|---|\n",
    "| '\\n' | Newline | Inserts a new line in a string. Useful for structuring text output or displaying information on separate lines. |\n",
    "| '\\t' | Tab | Creates horizontal spacing within a string. Valuable for aligning text or data in a visually organised manner. |\n",
    "| '\\\\' | Backslash | Acts as an escape character. Used when including special characters in a string without triggering their usual meaning. For example, to include a literal backslash in a string, we would use '\\\\'. |\n",
    "| '\\'' | Single quote | Used within strings declared with single quotes. Prevents confusion with the opening and closing of the string when a single quote needs to be included. |\n",
    "| '\"' | Double quote | Used within strings declared with double quotes. Prevents ambiguity and allows the inclusion of double quotes without prematurely ending the string. |\n",
    "| '\\r' | Carriage return | Moves the cursor to the beginning of the line without advancing to the next line. Useful for overwriting or modifying existing text. |\n",
    "| '\\b' | Backspace | Removes the preceding character. Often used for editing or correcting input. |\n",
    "| '\\a' | Alert | Produces an audible or visible alert. Its effectiveness may vary across different platforms. |\n",
    "| '\\ooo' | Octal representation | Represents a character using its octal value. For example, '\\110' represents the character 'H'. |\n",
    "| '\\xhh' | Hexadecimal representation | Represents a character using its hexadecimal value. For example, '\\x48' represents the character 'H'. |\n",
    "<div align=\"center\">\n",
    "    <em style=\"align:center\">Table 1: Special characters</em>\n",
    "</div>\n",
    "\n",
    "Understanding these special characters and their functions is crucial for effective string manipulation in Python."
   ]
  },
  {
   "cell_type": "code",
   "execution_count": 46,
   "metadata": {},
   "outputs": [
    {
     "name": "stdout",
     "output_type": "stream",
     "text": [
      "Hello,\n",
      "World!\n"
     ]
    }
   ],
   "source": [
    "# Example: newline (\\n)\n",
    "\n",
    "print(\"Hello,\\nWorld!\")"
   ]
  },
  {
   "cell_type": "code",
   "execution_count": 47,
   "metadata": {},
   "outputs": [
    {
     "name": "stdout",
     "output_type": "stream",
     "text": [
      "Name:\tJohn\n",
      "Age:\t25\n"
     ]
    }
   ],
   "source": [
    "# Example: tab (\\t)\n",
    "\n",
    "print(\"Name:\\tJohn\\nAge:\\t25\")"
   ]
  },
  {
   "cell_type": "code",
   "execution_count": 51,
   "metadata": {},
   "outputs": [
    {
     "name": "stdout",
     "output_type": "stream",
     "text": [
      "This is a backslash: \\\n"
     ]
    }
   ],
   "source": [
    "# Example: backslash (\\\\)\n",
    "\n",
    "print(\"This is a backslash: \\\\\")"
   ]
  },
  {
   "cell_type": "code",
   "execution_count": 52,
   "metadata": {},
   "outputs": [
    {
     "name": "stdout",
     "output_type": "stream",
     "text": [
      "He said, 'Hello!'\n"
     ]
    }
   ],
   "source": [
    "# Example: single quote (\\')\n",
    "\n",
    "print('He said, \\'Hello!\\'')"
   ]
  },
  {
   "cell_type": "code",
   "execution_count": 53,
   "metadata": {},
   "outputs": [
    {
     "name": "stdout",
     "output_type": "stream",
     "text": [
      "She exclaimed, \"Wow!\"\n"
     ]
    }
   ],
   "source": [
    "# Example: double quote (\\\")\n",
    "\n",
    "print(\"She exclaimed, \\\"Wow!\\\"\")"
   ]
  },
  {
   "cell_type": "code",
   "execution_count": 54,
   "metadata": {},
   "outputs": [
    {
     "name": "stdout",
     "output_type": "stream",
     "text": [
      "This text.\n"
     ]
    }
   ],
   "source": [
    "# Example: carriage return (\\r)\n",
    "\n",
    "print(\"Overwrite\\rThis text.\")"
   ]
  },
  {
   "cell_type": "code",
   "execution_count": 64,
   "metadata": {},
   "outputs": [
    {
     "name": "stdout",
     "output_type": "stream",
     "text": [
      "Remov This\n",
      "Onomatopoeia This\n"
     ]
    }
   ],
   "source": [
    "# Example: backspace (\\b)\n",
    "\n",
    "print(\"Remove\\b This\")\n",
    "\n",
    "# Example: backspace (\\b)\n",
    "\n",
    "print(\"Onomatopoeiaa\\b This\")"
   ]
  },
  {
   "cell_type": "code",
   "execution_count": 65,
   "metadata": {},
   "outputs": [
    {
     "name": "stdout",
     "output_type": "stream",
     "text": [
      "This is an alert!\u0007\n"
     ]
    }
   ],
   "source": [
    "# Example: alert (\\a)\n",
    "\n",
    "print(\"This is an alert!\\a\")"
   ]
  },
  {
   "cell_type": "code",
   "execution_count": 67,
   "metadata": {},
   "outputs": [
    {
     "name": "stdout",
     "output_type": "stream",
     "text": [
      "Octal representation: H\n"
     ]
    }
   ],
   "source": [
    "# Example: octal representation (\\ooo)\n",
    "\n",
    "print(\"Octal representation: \\110\")"
   ]
  },
  {
   "cell_type": "code",
   "execution_count": 68,
   "metadata": {},
   "outputs": [
    {
     "name": "stdout",
     "output_type": "stream",
     "text": [
      "Hexadecimal representation: H\n"
     ]
    }
   ],
   "source": [
    "# Example: hexadecimal representation (\\xhh)\n",
    "\n",
    "print(\"Hexadecimal representation: \\x48\")"
   ]
  },
  {
   "attachments": {},
   "cell_type": "markdown",
   "metadata": {},
   "source": [
    "## Examples\n",
    "\n",
    "Now that we have gone through the theory, let's get our hands dirty by trying out some example problems! \n",
    "\n"
   ]
  },
  {
   "cell_type": "markdown",
   "metadata": {},
   "source": [
    "### Example 1: String indexing \n",
    "\n",
    "Given the string below, perform the following tasks:\n",
    "\n",
    "1. Print the third character of the string using positive indexing.\n",
    "2. Print the last character of the string using negative indexing.\n",
    "3. Print a substring that includes characters from index 6 to 10 (inclusive)."
   ]
  },
  {
   "cell_type": "code",
   "execution_count": 45,
   "metadata": {},
   "outputs": [
    {
     "name": "stdout",
     "output_type": "stream",
     "text": [
      "Is\n",
      "to\n",
      "me\n",
      "wAt\n",
      "Is\n",
      "to\n",
      "yoe\n"
     ]
    }
   ],
   "source": [
    "challenge_string = \"PythonIsAwesome!\"\n",
    "\n",
    "print(challenge_string[6:8])  # Output: Is\n",
    "print(challenge_string[2]+challenge_string[4]) \n",
    "print(challenge_string[13:15])   \n",
    "print(challenge_string[9]+challenge_string[8]+challenge_string[2])   \n",
    "print(challenge_string[6:8])\n",
    "print(challenge_string[2]+challenge_string[4]) \n",
    "print(challenge_string[1]+challenge_string[4]+challenge_string[14]) "
   ]
  },
  {
   "cell_type": "code",
   "execution_count": null,
   "metadata": {},
   "outputs": [],
   "source": [
    "# Solution for Example 1\n",
    "challenge_string = \"PythonIsAwesome!\"\n",
    "\n",
    "# Task 1\n",
    "print(challenge_string[2])\n",
    "\n",
    "# Task 2\n",
    "print(challenge_string[-1])\n",
    "\n",
    "# Task 3\n",
    "print(challenge_string[6:11])"
   ]
  },
  {
   "cell_type": "markdown",
   "metadata": {},
   "source": [
    "### Exemple 2 : Concaténation de chaînes de caractères\n",
    "\n",
    "Concatenate these strings and print the result."
   ]
  },
  {
   "cell_type": "code",
   "execution_count": null,
   "metadata": {},
   "outputs": [
    {
     "name": "stdout",
     "output_type": "stream",
     "text": [
      " Beat around  Take with \n"
     ]
    }
   ],
   "source": [
    "\n",
    "string0 = \" Bite off more \"\n",
    "string1 = \" Beat around \"\n",
    "string2 = \" Take with \"\n",
    "string3 = \" Bite \"\n",
    "string4 = \" Get your \"\n",
    "string5 = \" Cry over \"\n",
    "string6 = \" Let the cat \"\n",
    "string7 = \" Pull someone*s leg\"\n",
    "string8 = \" Kill two birds \"\n",
    "string9 = \" Throw \"\n",
    "string10 = \" Catch someone \"\n",
    "string11 = \" Go the \"\n",
    "string12 = \" Barking up \"\n",
    "\n",
    "stringA = \" than you can chew \"\n",
    "stringB = \" the bush \"\n",
    "stringC = \" act together\"\n",
    "stringD = \" a pinch of salt\"\n",
    "stringE = \" the bullet \"\n",
    "stringF = \" spilled milk \"\n",
    "stringG = \" with one stone\"\n",
    "stringH = \" out of the bag\" \n",
    "stringE = \" red-handed \"\n",
    "stringF = \" the wrong tree \"\n",
    "stringG = \" the extra mile\"\n",
    "stringH = \" in the towel\"\n",
    "\n",
    "\n",
    "print(string1 + string2)\n"
   ]
  },
  {
   "cell_type": "code",
   "execution_count": 4,
   "metadata": {},
   "outputs": [
    {
     "name": "stdout",
     "output_type": "stream",
     "text": [
      "Programming is fun!\n"
     ]
    }
   ],
   "source": [
    "# Solution for Example 2\n",
    "string1 = \"Programming\"\n",
    "string2 = \" is fun!\"\n",
    "\n",
    "# Task\n",
    "result = string1 + string2\n",
    "print(result)"
   ]
  },
  {
   "cell_type": "markdown",
   "metadata": {},
   "source": [
    "### Exemple 3 : Caractères spéciaux\n",
    "\n",
    "Nous disposons des informations suivantes sur les caractères spéciaux dans les chaînes de caractères. En utilisant ces connaissances, créez une chaîne de plusieurs lignes qui contient les informations suivantes :\n",
    "\n",
    "* Votre nom et votre âge sur la première ligne.\n",
    "* Une phrase avec un caractère de nouvelle ligne pour séparer les lignes.\n",
    "* Une phrase avec un caractère de tabulation pour aligner le texte.\n",
    "* Une phrase contenant une barre oblique inverse.\n",
    "* Une phrase contenant des guillemets simples et doubles.\n",
    "* Une phrase utilisant le caractère retour chariot pour écraser une partie du texte.\n",
    "* une phrase contenant un caractère d'effacement arrière pour supprimer le caractère précédent.\n",
    "  \n",
    "Imprimer la chaîne multiligne."
   ]
  },
  {
   "cell_type": "markdown",
   "metadata": {},
   "source": [
    "**Expected output:**\n",
    "\n",
    "`John, Age: 30`\n",
    "\n",
    "`This is a multiline string.`\n",
    " \n",
    "`Name:    John`\n",
    "\n",
    "`Age:     30`\n",
    "\n",
    "`This is a backslash: \\`\n",
    "\n",
    "`He said, 'Hello!'`\n",
    "\n",
    "`She exclaimed, \"Wow!\"`\n",
    "\n",
    "`Overwrite This text.`\n",
    "\n",
    "`Remove This`"
   ]
  },
  {
   "cell_type": "code",
   "execution_count": 18,
   "metadata": {},
   "outputs": [
    {
     "name": "stdout",
     "output_type": "stream",
     "text": [
      "Mohamed is 30 years old.\n",
      "He lives in Accra, Ghana.\n",
      "Poku, age 30,\n",
      "lives in OUAGADOUGOU, BURKINA-FASO.\n",
      "Mohamed is 30 years old.\n",
      "He lives in Accra, Ghana.\n",
      "Poku, age 30,\n",
      "lives in OUAGADOUGOU, BURKINA-FASO.\n"
     ]
    }
   ],
   "source": [
    "name = \"Mohamed\"\n",
    "age = \"30\"\n",
    "print(name + \" is \" + age + \" years old.\") \n",
    "print(\"He lives in Accra, Ghana.\")\n",
    "\n",
    "multiline_sting = '''Poku, age 30,\n",
    "lives in OUAGADOUGOU, BURKINA-FASO.'''\n",
    "print(multiline_sting)\n",
    "\n",
    "# Voici le prénom de la personne\n",
    "name = \"Mohamed\"\n",
    "\n",
    "# Voici son âge (en chiffres)\n",
    "age = \"30\"\n",
    "\n",
    "# On colle toutes les informations ensemble pour faire une phrase\n",
    "print(name + \" is \" + age + \" years old.\")\n",
    "\n",
    "# On ajoute une autre phrase pour dire où il habite\n",
    "print(\"He lives in Accra, Ghana.\")\n",
    "\n",
    "# On prépare un texte plus long qui prend plusieurs lignes\n",
    "multiline_sting = '''Poku, age 30,\n",
    "lives in OUAGADOUGOU, BURKINA-FASO.'''\n",
    "\n",
    "# On affiche le texte long à l'écran\n",
    "print(multiline_sting)\n",
    "\n",
    "\n",
    "\n"
   ]
  },
  {
   "cell_type": "code",
   "execution_count": null,
   "metadata": {},
   "outputs": [
    {
     "name": "stdout",
     "output_type": "stream",
     "text": [
      "John, Age: 30\n",
      "This is a multiline string.\n",
      "Name:\tJohn\n",
      "Age:\t30\n",
      "This is a backslash: \\\n",
      "He said, 'Hello!'\n",
      "She exclaimed, \"Wow!\"\n",
      "This text.\n",
      "Remov This\n",
      "\n"
     ]
    }
   ],
   "source": [
    "# Solution for Example 3\n",
    "# Creating a multiline string using special characters\n",
    "multiline_string = '''John, Age: 30\n",
    "This is a multiline string.\n",
    "Name:\\tJohn\n",
    "Age:\\t30\n",
    "This is a backslash: \\\\\n",
    "He said, 'Hello!'\n",
    "She exclaimed, \"Wow!\"\n",
    "Overwrite\\rThis text.\n",
    "Remove\\b This\n",
    "'''\n",
    "\n",
    "# Printing the multiline string\n",
    "print(multiline_string)\n"
   ]
  },
  {
   "cell_type": "markdown",
   "id": "e9956efe",
   "metadata": {
    "tags": []
   },
   "source": [
    "## Summary\n",
    "\n",
    "En Python, les chaînes représentent du texte et peuvent être créées avec des guillemets simples ou doubles. Il s'agit de séquences de caractères, accessibles par indexation positive ou négative. Les chaînes sont immuables, ce qui signifie qu'elles ne peuvent pas être modifiées sur place, mais de nouvelles chaînes peuvent être créées à partir de l'original. La fonction `print()` est essentielle pour afficher des informations. Les caractères spéciaux améliorent la flexibilité des chaînes, et la manipulation des chaînes inclut des techniques telles que la concaténation, la réplication et le découpage."
   ]
  },
  {
   "cell_type": "markdown",
   "id": "26fd094b-0fee-46f1-a4b8-73766813c42b",
   "metadata": {
    "tags": []
   },
   "source": [
    "#  \n",
    "\n",
    "<div align=\"center\" style=\" font-size: 80%; text-align: center; margin: 0 auto\">\n",
    "<img src=\"https://raw.githubusercontent.com/Explore-AI/Pictures/refs/heads/master/ALX_banners/ALX_Navy.png\"  style=\"width:140px\";/>\n",
    "</div>"
   ]
  }
 ],
 "metadata": {
  "kernelspec": {
   "display_name": "Python 3",
   "language": "python",
   "name": "python3"
  },
  "language_info": {
   "codemirror_mode": {
    "name": "ipython",
    "version": 3
   },
   "file_extension": ".py",
   "mimetype": "text/x-python",
   "name": "python",
   "nbconvert_exporter": "python",
   "pygments_lexer": "ipython3",
   "version": "3.10.12"
  }
 },
 "nbformat": 4,
 "nbformat_minor": 5
}
