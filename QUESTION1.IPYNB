QUESTION1
What is the Big-O notation for the worst-case time complexity of the following function?

def find_element(arr, x):
    for element in arr:
        if element == x:
            return True
    return False

animal_list = ["Lion", "Elephant", "Tiger", "Giraffe", "Zebra", "Panda", "Kangaroo", "Penguin"]

find_element(animal_list , "Penguin")


Imagine This:

The function find_element is like looking for your favorite toy in a big toy box.

    arr is the toy box (a list of all your toys).

    x is the specific toy you want to find (like your red race car).

How Does the Search Work?

The function works like this:

    It takes one toy out of the box.

    It looks at it: "Is this my red race car?"

    If YES: It gets very happy and says "True! I found it!" and stops looking immediately.

    If NO: It puts that toy aside and grabs the next one to check.

It will keep doing this until it either finds the toy or until it has looked at every single toy in the box.
The "Worst-Case" Situation

The "worst-case" is the situation that would take the longest possible time.

When would that happen?
When the toy you are looking for is not in the box at all OR it's the very last toy in the box.

In both of these cases, the function has to pick up every single toy and look at it before it can finally say "False, it's not here" or find it at the very end.
The Big-O Notation

Now, let's think about how much work this is.

If you have 10 toys (n = 10), you might have to check 10 times.
If you have 100 toys (n = 100), you might have to check 100 times.
If you have 1,000 toys (n = 1000), you might have to check 1,000 times.

The number of checks grows directly in proportion to the number of items n in the box. If the number of toys doubles, the worst-case time it takes also doubles.

We call this a "Linear" relationship. It draws a straight line on a graph.

In Big-O notation, we say this is:

O(n)

We pronounce this "Big O of n".
Summary
If the number of items (n) is...	In the worst case, the number of checks is...	This is called...	Big-O Notation
10	10	Linear	O(n)
100	100	Linear	O(n)
1000	1000	Linear	O(n)

So, the worst-case time complexity of the find_element function is O(n).






QUESTION2

Voici les lignes réarrangées pour implémenter correctement un algorithme de tri à bulles :
python

def bubble_sort(items):
    """ Implementation of bubble sort."""
    for i in range(len(items)):
        for j in range(len(items)-1-i):
            if items[j] > items[j+1]:
                items[j], items[j+1] = items[j+1], items[j]
    return items

Explication de l'organisation :

    Documentation : La docstring """ Implementation of bubble sort.""" doit être au début de la fonction

    Boucle externe : for i in range(len(items)): contrôle le nombre de passes

    Boucle interne : for j in range(len(items)-1-i): compare les éléments adjacents

    Condition de swap : if items[j] > items[j+1]: vérifie si les éléments sont dans le mauvais ordre

    Échange : items[j], items[j+1] = items[j+1], items[j] permute les éléments

    Return : return items retourne la liste triée

Fonctionnement du tri à bulles :

    Le tri à bulles fait remonter les plus grands éléments comme des bulles

    À chaque passe complète, le plus grand élément non trié se place à sa position finale

    La boucle interne évite de comparer les éléments déjà triés (-i)

    La complexité est O(n²) dans le pire cas

Exemple d'output :
Si items = [64, 34, 25, 12, 22, 11, 90]
Output : [11, 12, 22, 25, 34, 64, 90]





QUESTION3



C'est comme créer un nouveau jeu avec des règles !

Imagine que tu veux créer un jeu vidéo où on peut avoir un compte bancaire. Pour créer ce jeu, il faut d'abord écrire les règles pour dire à l'ordinateur ce qu'est un compte bancaire et ce qu'on peut faire avec.
Étape 1 : Écrire les règles (Créer la classe)

On doit d'abord dire : "Voici la recette pour faire un compte bancaire". En Python, on utilise le mot class.

    Commence par la grande boîte : class BankAccount: → On dit : "Voici les règles pour un CompteBancaire".

    La première règle : comment le créer ? : La fonction __init__ est comme la première action quand on ouvre un nouveau compte. Elle dit : "Quand quelqu'un ouvre un compte, il doit commencer avec une certaine somme d'argent (balance)".
    python

def __init__(self, balance):
    self.balance = balance

La deuxième règle : comment ajouter de l'argent ? : Ensuite, on crée une action pour déposer de l'argent. On l'appelle deposit.
python

def deposit(self, amount):
    self.balance += amount

Voici les règles bien organisées :
python

class BankAccount:
    def __init__(self, balance):
        self.balance = balance
        
    def deposit(self, amount):
        self.balance += amount

Étape 2 : Jouer au jeu ! (Utiliser la classe)

Maintenant qu'on a écrit les règles, on peut jouer et créer un vrai compte.

Prenons les actions une par une :

    "Ouvrir un nouveau compte avec un solde de 100"

        On utilise le nom de notre règle (BankAccount) et on lui donne le montant de départ (100) entre parenthèses.

        mon_compte = BankAccount(100)

    "Déposer 50 supplémentaires"

        On prend notre compte (mon_compte) et on utilise l'action deposit qu'on a créée.

        On lui dit combien on veut déposer (50) entre parenthèses.

        mon_compte.deposit(50)

    "Imprimer le solde"

        Pour voir combien il y a d'argent sur le compte, on regarde ce qu'il y a dans balance.

        print(mon_compte.balance)

La bonne ligne de code est donc :

mon_compte = BankAccount(100) → On crée le compte
mon_compte.deposit(50) → On ajoute 50
print(mon_compte.balance) → On regarde le total
Et ça affichera : 150

Parce que 100 (au départ) + 50 (déposés) = 150 !



QUESTION4

C'est comme une équipe de super-héros qui se passe un message !

Imagine que tu as un mot, par exemple "SALUT". Tu veux l'écrire à l'envers pour faire "TULAS".

Au lieu de le faire toi-même tout seul, tu vas former une petite équipe de super-héros. Chaque héros ne peut faire qu'une toute petite partie du travail, mais ensemble, ils sont très forts !
Voici comment ton équipe de super-héros fonctionne :

La règle du chef d'équipe (la fonction) :
python

def r(s):

La première mission du chef :
"Si on me donne un message vide, je n'ai rien à faire !"
python

    if len(s) == 0:
        return s

La mission spéciale (la partie magique) :

    "Je prends la première lettre du mot (S) et je la garde de côté."

    "Je confie le reste du mot (ALUT) au héros numéro 2 en lui disant : 'À toi de le renverser !'"

    "Quand le héros numéro 2 me rapporte le mot renversé (TULA), je colle la lettre que j'avais gardée (S) à la fin."

En code, ça donne :
python

    return r(s[1:]) + s[0]

On assemble toute l'équipe :

Voici les lignes dans le bon ordre pour que l'équipe fonctionne :
python

def r(s):
    if len(s) == 0:
        return s
    return r(s[1:]) + s[0]

⚡ Et maintenant, l'équipe entre en action avec le mot "SALUT" !

    Héros 1 a "SALUT"

        Il garde "S" et dit : "Héros 2, renverse-moi 'ALUT' !"

    Héros 2 a "ALUT"

        Il garde "A" et dit : "Héros 3, renverse-moi 'LUT' !"

    Héros 3 a "LUT"

        Il garde "L" et dit : "Héros 4, renverse-moi 'UT' !"

    Héros 4 a "UT"

        Il garde "U" et dit : "Héros 5, renverse-moi 'T' !"

    Héros 5 a "T"

        Il garde "T" et dit : "Héros 6, renverse-moi '' !" (une chaîne vide)

    Héros 6 a ""

        "Il n'y a rien ! Je renvoie rien."

Maintenant, on remonte la chaîne :

    Héros 6 renvoie "" à Héros 5

    Héros 5 ajoute son "T" : "" + "T" = "T"

    Héros 5 renvoie "T" à Héros 4

    Héros 4 ajoute son "U" : "T" + "U" = "TU"

    Héros 4 renvoie "TU" à Héros 3

    Héros 3 ajoute son "L" : "TU" + "L" = "TUL"

    Héros 3 renvoie "TUL" à Héros 2

    Héros 2 ajoute son "A" : "TUL" + "A" = "TULA"

    Héros 2 renvoie "TULA" à Héros 1

    Héros 1 ajoute son "S" : "TULA" + "S" = "TULAS"

Et voilà ! Le mot "SALUT" a été renversé en "TULAS" !
La bonne réponse est donc :

r("hello") donnera "olleh"

Parce que si on applique la même méthode magique à "hello", on obtient son inverse !







QUESTION5

C'est comme faire le tri dans ton sac de bonbons !

Imagine que tu as un sac avec des bonbons. Sur certains bonbons, il est écrit "–" (un signe négatif). Ce sont des bonbons qui ont un mauvais goût. Tu veux les enlever pour ne garder que les bons bonbons !

    numbers = [-2, 5, -9, 8, -1, 10] → C'est ton sac de bonbons avec les bons et les mauvais.

    filter() → C'est un filtre magique qui va trier tes bonbons.

    lambda → C'est une petite instruction que tu donnes au filtre magique pour lui expliquer quelle est la règle pour garder un bonbon ou le jeter.

⚡ La règle à donner au filtre magique :

Tu dois dire au filtre : "Garde seulement les bonbons qui sont PLUS GRANDS ou ÉGAUX à ZÉRO."

Pourquoi ? Parce que les mauvais bonbons (négatifs) ont des nombres plus petits que zéro !

En langage Python, on écrit cette règle comme ça :
lambda x: x >= 0

    lambda : C'est le mot qui dit "Voici une petite règle"

    x : Ça représente chaque bonbon (chaque nombre) que le filtre regarde

    x >= 0 : C'est la règle : "Ce bonbon est-il supérieur ou égal à 0 ?"

On met tout ensemble :
python

numbers = [-2, 5, -9, 8, -1, 10]
result = filter(lambda x: x >= 0, numbers) # Le filtre magique avec la règle
print(list(result))

🔍 Que va-t-il se passer ?

Le filtre magique va prendre chaque nombre et appliquer la règle :

    -2 >= 0 ? → Non (Faux) → JETÉ !

    5 >= 0 ? → Oui (Vrai) → GARDÉ !

    -9 >= 0 ? → Non (Faux) → JETÉ !

    8 >= 0 ? → Oui (Vrai) → GARDÉ !

    -1 >= 0 ? → Non (Faux) → JETÉ !

    10 >= 0 ? → Oui (Vrai) → GARDÉ !

Le résultat final sera :

[5, 8, 10]

Ce sont tous les bons bonbons, ceux qui étaient positifs (ou nuls) ! Les mauvais bonbons négatifs ont été filtrés et jetés.