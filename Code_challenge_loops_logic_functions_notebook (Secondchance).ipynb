{
 "cells": [
  {
   "cell_type": "markdown",
   "metadata": {},
   "source": [
    "<div align=\"center\" style=\" font-size: 80%; text-align: center; margin: 0 auto\">\n",
    "<img src=\"https://raw.githubusercontent.com/Explore-AI/Pictures/master/Python-Notebook-Banners/Code_challenge.png\"  style=\"display: block; margin-left: auto; margin-right: auto;\";/>\n",
    "</div>"
   ]
  },
  {
   "cell_type": "markdown",
   "id": "f662d169",
   "metadata": {},
   "source": [
    "# Code challenge notebook: Loops and functions\n"
   ]
  },
  {
   "cell_type": "markdown",
   "id": "26af890c",
   "metadata": {},
   "source": [
    "In this coding challenge, we will apply our Python programming skills to automate more complex movement of our farm equipment. We will use functions to make our code more modular, making it simpler to read, modify, and extend."
   ]
  },
  {
   "cell_type": "markdown",
   "id": "2d230d14",
   "metadata": {
    "tags": []
   },
   "source": [
    "⚠️ **Note: This notebook should be used to work through the code challenge, but should not be submitted. Please transfer your code to `GCC_Submit_loops_and_functions.ipynb` and submit that file online. Submitting this notebook will fail the autograder tests.**\n",
    "\n",
    "### Instructions\n",
    "\n",
    "- **Do not add or remove cells in this notebook. Do not edit or remove the `### START FUNCTION` or `### END FUNCTION` comments. Do not add any code outside of the functions you are required to edit. Doing any of this will lead to a mark of 0%!**\n",
    "\n",
    "- Answer the questions according to the specifications provided.\n",
    "\n",
    "- Use the given cell in each question to see if your function matches the expected outputs.\n",
    "\n",
    "- Do not hard-code answers to the questions.\n",
    "\n",
    "- The use of StackOverflow, Google, and other online tools is permitted. However, copying a fellow student's code is not permissible and is considered a breach of the honour code. Doing this will result in a mark of 0%."
   ]
  },
  {
   "cell_type": "markdown",
   "id": "77f6ad3f",
   "metadata": {},
   "source": [
    "## Introduction\n",
    "\n",
    "Our ultimate goal is to develop fully autonomous farming equipment. These machines will not just follow preset instructions; they will make intelligent decisions based on real-time data. Imagine tractors that know when to plough, seeders that understand the best planting patterns, and irrigation systems that water crops precisely when needed.\n",
    "\n",
    "But every grand plan starts with a first step. For us, it's creating a digital mirror of Maji Ndogo's farming ecosystem – a comprehensive **Digital Twin**. This virtual model will be our testing ground. Here, we'll experiment with different agricultural strategies, analyse their outcomes, and perfect our approaches without a single seed being sown in the real world.\n",
    "\n",
    "To build this digital farm, we'll rely on our Python programming skills. We’ll start by digitally constructing the farm elements:\n",
    "\n",
    "- **Fields:** We'll create grid representations of fields where each cell is a patch of land.\n",
    "\n",
    "- **Farming equipment:** Digital tractors and tools will interact with the virtual crops and fields.\n",
    "\n",
    "Let's gear up, roll up our sleeves, and dive in. 🌱🚜🌾"
   ]
  },
  {
   "cell_type": "markdown",
   "id": "5a0b7683",
   "metadata": {
    "tags": []
   },
   "source": [
    "## Initialising simulation code\n",
    "\n",
    "In order for the simulation to run, we have to install the `Pygame` package. This Python package is used to draw graphics for games written in Python, and we'll use it to see the results of our code.\n",
    "\n",
    "First, we install the `Pygame` package with pip:"
   ]
  },
  {
   "cell_type": "code",
   "execution_count": null,
   "id": "c81ba261",
   "metadata": {},
   "outputs": [],
   "source": [
    "!pip install pygame"
   ]
  },
  {
   "cell_type": "markdown",
   "id": "c6382abd",
   "metadata": {},
   "source": [
    "Then run some code to set up the visuals. \n",
    "\n",
    "Before scrolling down, remember that we **don't have to understand every line of code in the cell below**. \n",
    "\n",
    "Scroll down and try to spot **variables**, **functions**, **conditional flow**, **loops**, **datatypes**, and so on.\n",
    "\n",
    "By the end of the course, all of this code will make sense. But for now, we can just execute this cell."
   ]
  },
  {
   "cell_type": "code",
   "execution_count": null,
   "id": "4fd4f0b6",
   "metadata": {},
   "outputs": [],
   "source": []
  },
  {
   "cell_type": "markdown",
   "id": "291b6595",
   "metadata": {},
   "source": [
    "> ⚠️ If we get any errors after running the cell above, we have to make sure we have installed `Pygame` and extracted all of the files in the `asset` folder."
   ]
  },
  {
   "cell_type": "markdown",
   "id": "6c7b9401",
   "metadata": {},
   "source": [
    "Next up are some parameters we can change. \n",
    "\n",
    "- If we run the simulation and the `Pygame` screen is too large, we can reduce the `field_height` and `field_width` parameters. \n",
    "\n",
    "- If the simulation is slowing our computers down, decrease the `simulation_speed`\n",
    "\n",
    "- Finally, we have several options to customise our tractors. `tractor_colour` specifies which colour we want, and the options are:\n",
    "\n",
    " `['blue', 'green', 'orange', 'pink', 'purple', 'red']`\n",
    " \n",
    "Simply change the string below to one of these options.\n"
   ]
  },
  {
   "cell_type": "code",
   "execution_count": null,
   "id": "526bcbcc",
   "metadata": {},
   "outputs": [],
   "source": [
    "simulation_speed = 40\n",
    "tractor_colour = 'pink'\n",
    "field_height = 5 # min 1\n",
    "field_width =  5 # min 1"
   ]
  },
  {
   "cell_type": "markdown",
   "id": "36143340",
   "metadata": {},
   "source": [
    "## Creating a digital field\n",
    "\n",
    "As we continue our journey in creating a Digital Twin for Maji Ndogo's agriculture, we now focus on a crucial aspect: programming the movement of our virtual tractor across a field. \n",
    "\n",
    "We can represent a field as cells:\n",
    "\n",
    "<div align=\"center\" style=\"font-size: 80%; text-align: center; margin: 0 auto\">\n",
    "  <figure>\n",
    "    <img src=\"https://github.com/Explore-AI/Pictures/blob/master/alx_ds_python/Code_challenges/Field.png?raw=true\"\n",
    "         style=\"display: block; margin-left: auto; margin-right: auto; width: 25%; height: auto;\"/>\n",
    "    <figcaption>Figure 1: Representing a field digitally.</figcaption>\n",
    "  </figure>\n",
    "</div>\n",
    "\n",
    "The field above is 5x5, meaning it has a width of 5 and a height of 5 cells. To digitally represent the field, each cell can be a string `'soil'`, and all of the strings can be placed in a list to make a row in the field, `['soil', 'soil', 'soil', 'soil', 'soil']`.  If we then nest these in another list, we can represent the field as a list of lists:"
   ]
  },
  {
   "cell_type": "code",
   "execution_count": null,
   "id": "fd359ab4",
   "metadata": {},
   "outputs": [],
   "source": [
    "field_5x5 = [\n",
    " ['soil', 'soil', 'soil', 'soil', 'soil'],\n",
    " ['soil', 'soil', 'soil', 'soil', 'soil'],\n",
    " ['soil', 'soil', 'soil', 'soil', 'soil'],\n",
    " ['soil', 'soil', 'soil', 'soil', 'soil'],\n",
    " ['soil', 'soil', 'soil', 'soil', 'soil'],\n",
    "]"
   ]
  },
  {
   "cell_type": "markdown",
   "id": "14ada285",
   "metadata": {},
   "source": [
    "To create a field in this code challenge, we can use the command `field = Field(field_width + 2, field_height + 2)` with `field_height = 10` and \n",
    "`field_width =  5`. We will create a nested list of lists where each row represents the width of the field and all of the rows combined give the height. \n",
    "\n",
    "If we print out the field with the command `print_field(field)` we can see that each element in the list is a string, `soil`."
   ]
  },
  {
   "cell_type": "code",
   "execution_count": null,
   "id": "b93c189c",
   "metadata": {},
   "outputs": [],
   "source": [
    "field_height = 10\n",
    "field_width =  5\n",
    "\n",
    "field = Field(field_width + 2, field_height + 2) # We create a new field with this line that is two tiles wider than the values we gave, which makes room for some grass.\n",
    "print_field(field)"
   ]
  },
  {
   "cell_type": "markdown",
   "id": "a4be630c",
   "metadata": {},
   "source": [
    "We can change the field dimensions by altering the field's parameters."
   ]
  },
  {
   "cell_type": "code",
   "execution_count": null,
   "id": "91bea2b2",
   "metadata": {},
   "outputs": [],
   "source": [
    "field_height = 5\n",
    "field_width =  6\n",
    "\n",
    "field = Field(field_width + 2, field_height + 2)\n",
    "print_field(field)"
   ]
  },
  {
   "cell_type": "markdown",
   "id": "7a9073d0",
   "metadata": {},
   "source": [
    "Now the field is 6x5."
   ]
  },
  {
   "cell_type": "markdown",
   "id": "732229a0",
   "metadata": {},
   "source": [
    "## Moving through our digital field\n",
    "\n",
    "We can control the movement of the tractor in the field using `student_function()`. This function takes a field in the format above as input and creates a list of coordinates as output where the tractor should move to, called `plough_movements`.\n",
    "\n",
    "In the example below, the function takes in a 5x5 `field` and moves through the first row of the field (`field[0]`). `student_function()` returns a list of `plough_movements` which are tuples of the indexes of the field to where the tractor should move `(col, row)`."
   ]
  },
  {
   "cell_type": "code",
   "execution_count": null,
   "id": "4993416b",
   "metadata": {},
   "outputs": [],
   "source": [
    "field_height = 5\n",
    "field_width =  5\n",
    "\n",
    "field = Field(field_width + 2, field_height + 2)\n",
    "print_field(field)\n",
    "\n",
    "def student_function(field):\n",
    "    # Example function – we will write our own functions\n",
    "    plough_movements = []\n",
    "    for row in range(len(field[0])): # Create a list of length of field[0]\n",
    "        plough_movements.append((0,row))\n",
    "\n",
    "    return plough_movements\n",
    "\n",
    "print_movement(field)"
   ]
  },
  {
   "cell_type": "markdown",
   "id": "3306c5ec",
   "metadata": {},
   "source": [
    "**Note:** This function loops through the indexes from `0` to `range(len(field[0]))` – the length of the row (`[0, 1, 2, 3, 4]`). For each element in the row, we append the `plough_movements` list with a tuple, `(row, col)`.\n",
    "\n",
    "The output, `[(0, 0), (0, 1), (0, 2), (0, 3), (0, 4)]`, means that the tractor starts at `(0, 0)` (always top left), then moves to position `(0, 1)`, which is to the right, until it gets to `(0, 4)`. \n",
    "\n",
    "<div align=\"center\" style=\"font-size: 80%; text-align: center; margin: 0 auto\">\n",
    "  <figure>\n",
    "    <img src=\"https://github.com/Explore-AI/Pictures/blob/master/alx_ds_python/Code_challenges/Field_plough_single.png?raw=true\"\n",
    "         style=\"display: block; margin-left: auto; margin-right: auto; width: 20%; height: auto;\"/>\n",
    "    <figcaption>Figure 2: Ploughing the first row.</figcaption>\n",
    "  </figure>\n",
    "</div>\n",
    "\n",
    "\n"
   ]
  },
  {
   "cell_type": "markdown",
   "id": "c2ac5df2",
   "metadata": {},
   "source": [
    "We can run the simulation by executing the cell below. A new window should pop up, and if we click on `Start`, the tractor will plough the first row. To stop the tractor, click on `Stop`.\n",
    "\n",
    "Running the code below should open a new window, sometimes in the background, so if no window appears, look for it on your taskbar."
   ]
  },
  {
   "cell_type": "code",
   "execution_count": null,
   "id": "eb4aae8a",
   "metadata": {},
   "outputs": [],
   "source": [
    "field = Field(field_width + 2, field_height + 2)\n",
    "\n",
    "if __name__ == \"__main__\":\n",
    "    main()"
   ]
  },
  {
   "cell_type": "markdown",
   "id": "88522c4a",
   "metadata": {},
   "source": [
    "If we wanted to plough only the second row, we could use the column index, 1:"
   ]
  },
  {
   "cell_type": "code",
   "execution_count": null,
   "id": "1cc8287b",
   "metadata": {},
   "outputs": [],
   "source": [
    "def student_function(field):\n",
    "    plough_movements = []\n",
    "    for row in range(len(field[1])):\n",
    "        plough_movements.append((1,row))\n",
    "    return plough_movements\n",
    "\n",
    "print_movement(field)"
   ]
  },
  {
   "cell_type": "markdown",
   "id": "c14c0bc6",
   "metadata": {},
   "source": [
    "If we run the simulation again:"
   ]
  },
  {
   "cell_type": "code",
   "execution_count": null,
   "id": "77b97525",
   "metadata": {},
   "outputs": [],
   "source": [
    "field = Field(field_width + 2, field_height + 2)\n",
    "\n",
    "if __name__ == \"__main__\":\n",
    "    main()"
   ]
  },
  {
   "cell_type": "markdown",
   "id": "c9b26635",
   "metadata": {},
   "source": [
    "We can see the tractor only ploughs the second row, index 1.\n",
    "\n",
    "<br>"
   ]
  },
  {
   "cell_type": "markdown",
   "id": "0d50a708",
   "metadata": {},
   "source": [
    "Of course, we want to plough the whole field, so we can use a nested loop to do that. If we add an outer loop to the one we have, we can loop through the rows, one by one, and for each row, plough the field."
   ]
  },
  {
   "cell_type": "markdown",
   "id": "d9c9c575",
   "metadata": {},
   "source": [
    "## Challenge 1: Plough the whole field"
   ]
  },
  {
   "cell_type": "markdown",
   "id": "f25155d6",
   "metadata": {},
   "source": [
    "Your task is to write a function `student_function()` that takes the field as input and returns a list of coordinates in tuple format. The coordinates should represent the series of movements the tractor should make.\n",
    "\n",
    "Rearrange the code below to make the tractor plough the entire field, row by row."
   ]
  },
  {
   "cell_type": "markdown",
   "id": "eb126fc6",
   "metadata": {},
   "source": [
    "### Answer"
   ]
  },
  {
   "cell_type": "code",
   "execution_count": null,
   "id": "9fc4d6a9",
   "metadata": {},
   "outputs": [],
   "source": [
    "def student_function(field):\n",
    "return plough_movements\n",
    "plough_movements = []\n",
    "for row in range(len(field[col])):\n",
    "plough_movements.append((col, row))\n",
    "for col in range(len(field)):"
   ]
  },
  {
   "cell_type": "markdown",
   "id": "559167de",
   "metadata": {},
   "source": [
    "### Expected outputs"
   ]
  },
  {
   "cell_type": "markdown",
   "id": "22bf4519",
   "metadata": {},
   "source": [
    "**Input 1:**"
   ]
  },
  {
   "cell_type": "code",
   "execution_count": null,
   "id": "5d60d60b",
   "metadata": {},
   "outputs": [],
   "source": [
    "# soil1, soil2 and soil3 are used to draw variations of a soil tile in Pygame. They have no meaning to our code.\n",
    "\n",
    "field_standard = [\n",
    "    ['soil3', 'soil3', 'soil1', 'soil2', 'soil2'],  \n",
    "    ['soil2', 'soil3', 'soil2', 'soil1', 'soil3'],\n",
    "    ['soil2', 'soil3', 'soil1', 'soil3', 'soil3'],\n",
    "    ['soil3', 'soil2', 'soil3', 'soil3', 'soil2'],\n",
    "    ['soil3', 'soil2', 'soil1', 'soil3', 'soil2'],\n",
    "    ['soil2', 'soil3', 'soil3', 'soil1', 'soil3'],\n",
    "    ['soil3', 'soil1', 'soil3', 'soil2', 'soil2'],\n",
    "    ['soil2', 'soil1', 'soil2', 'soil2', 'soil1'],\n",
    "    ['soil1', 'soil1', 'soil3', 'soil2', 'soil3'],\n",
    "    ['soil3', 'soil3', 'soil3', 'soil1', 'soil1']\n",
    "]\n",
    "\n",
    "student_function(field_standard)"
   ]
  },
  {
   "cell_type": "markdown",
   "id": "3cfb244a",
   "metadata": {},
   "source": [
    "**Output:** \n",
    "\n",
    "`[(0, 0), (0, 1), (0, 2), (0, 3), (0, 4), (1, 0), (1, 1), (1, 2), (1, 3), (1, 4), (2, 0), (2, 1), (2, 2), (2, 3), (2, 4), (3, 0), (3, 1), (3, 2), (3, 3), (3, 4), (4, 0), (4, 1), (4, 2), (4, 3), (4, 4), (5, 0), (5, 1), (5, 2), (5, 3), (5, 4), (6, 0), (6, 1), (6, 2), (6, 3), (6, 4), (7, 0), (7, 1), (7, 2), (7, 3), (7, 4), (8, 0), (8, 1), (8, 2), (8, 3), (8, 4), (9, 0), (9, 1), (9, 2), (9, 3), (9, 4)]`\n",
    "\n",
    "<br>\n"
   ]
  },
  {
   "cell_type": "markdown",
   "id": "f2767ed5",
   "metadata": {},
   "source": [
    "**Input 2:**"
   ]
  },
  {
   "cell_type": "code",
   "execution_count": null,
   "id": "5b65a05a",
   "metadata": {},
   "outputs": [],
   "source": [
    "field_wide = [\n",
    "    ['soil3', 'soil3', 'soil1', 'soil2', 'soil2', 'soil3', 'soil3', 'soil1', 'soil2', 'soil2', 'soil3', 'soil3', 'soil1', 'soil2', 'soil2'],\n",
    "    ['soil3', 'soil3', 'soil1', 'soil2','soil2', 'soil3', 'soil3']\n",
    "]\n",
    "\n",
    "student_function(field_wide)"
   ]
  },
  {
   "cell_type": "markdown",
   "id": "0af38b9e",
   "metadata": {},
   "source": [
    "**Output:** \n",
    "\n",
    "`[(0, 0), (0, 1), (0, 2), (0, 3), (0, 4), (0, 5), (0, 6), (0, 7), (0, 8), (0, 9), (0, 10), (0, 11), (0, 12), (0, 13), (0, 14), (1, 0), (1, 1), (1, 2), (1, 3), (1, 4), (1, 5), (1, 6)]`"
   ]
  },
  {
   "cell_type": "markdown",
   "id": "9900c20a",
   "metadata": {},
   "source": [
    "### Simulation"
   ]
  },
  {
   "cell_type": "markdown",
   "id": "2202892e",
   "metadata": {},
   "source": [
    "If our code gives the correct outputs, we can run the simulation to see if the tractor did what we expected. We should see the tractor moving from left to right, row by row, until it reaches the last cell. This is what the loop is doing too. Each cell in a row is ploughed, one by one, row by row. "
   ]
  },
  {
   "cell_type": "code",
   "execution_count": null,
   "id": "38e421d1",
   "metadata": {},
   "outputs": [],
   "source": [
    "field = Field(field_width + 2, field_height + 2)\n",
    "\n",
    "if __name__ == \"__main__\":\n",
    "    main()"
   ]
  },
  {
   "cell_type": "markdown",
   "id": "506cf8be",
   "metadata": {},
   "source": [
    "Before continuing, make sure to understand how the student function was able to create the output."
   ]
  },
  {
   "cell_type": "markdown",
   "id": "f26cf4e0",
   "metadata": {},
   "source": [
    "## Challenge 2: Turning the tractor around\n",
    "\n",
    "Tractors in real fields don't just move in one direction like this:\n",
    "\n",
    "<div align=\"center\" style=\"font-size: 80%; text-align: center; margin: 0 auto\">\n",
    "  <figure>\n",
    "    <img src=\"https://github.com/Explore-AI/Pictures/blob/master/alx_ds_python/Code_challenges/Field_plough_standard.png?raw=true\"\n",
    "         style=\"display: block; margin-left: auto; margin-right: auto; width: 20%; height: auto;\"/>\n",
    "    <figcaption>Figure 3: Ploughing the whole field.</figcaption>\n",
    "  </figure>\n",
    "</div>\n",
    "\n",
    "They turn around at the end of each row:\n",
    "\n",
    "<div align=\"center\" style=\"font-size: 80%; text-align: center; margin: 0 auto\">\n",
    "  <figure>\n",
    "    <img src=\"https://github.com/Explore-AI/Pictures/blob/master/alx_ds_python/Code_challenges/Field_plough_real.png?raw=true\"\n",
    "         style=\"display: block; margin-left: auto; margin-right: auto; width: 20%; height: auto;\"/>\n",
    "    <figcaption>Figure 4: Realistic tractor movements.</figcaption>\n",
    "  </figure>\n",
    "</div>\n",
    "\n",
    "Let’s explore how we can recreate this behaviour digitally. To make it more challenging, we introduced a penalty to the score. If we plough a row and start a new row from the left each time (as shown in Figure 3), we receive a penalty of +20 added to the score. For each row, the score will be 5 + 20, resulting in a high score. However, if we plough the field in alternating directions, there is no penalty applied, so we can aim for a lower score.\n",
    "\n",
    "**Discussing approaches**\n",
    "- **List reversal:** For odd rows, reverse the order of columns traversed.\n",
    "- **If-Else condition:** We can use if-else conditions to change the direction of movement based on whether the row number is even or odd."
   ]
  },
  {
   "cell_type": "markdown",
   "id": "e4f07a97",
   "metadata": {},
   "source": [
    "So let's start with creating a function that will take a list, reverse the order, and return a list. This is a very common task in programming, so search around to find out how to do this."
   ]
  },
  {
   "cell_type": "markdown",
   "id": "0b095fde",
   "metadata": {},
   "source": [
    "### Answer"
   ]
  },
  {
   "cell_type": "code",
   "execution_count": null,
   "id": "21748c7c",
   "metadata": {},
   "outputs": [],
   "source": [
    "def reverse_list(input_list):\n",
    "    \"\"\"\n",
    "    Inverse complètement l'ordre d'une liste\n",
    "    Exemple: [0, 1, 2, 3, 4] devient [4, 3, 2, 1, 0]\n",
    "    \"\"\"\n",
    "    return input_list[::-1]  # La magie de Python !\n",
    "\n",
    "# ==================== DÉMONSTRATION 1 ====================\n",
    "print(\" DÉMONSTRATION 1 - Liste ordonnée\")\n",
    "print(\"=\" * 40)\n",
    "\n",
    "current_row = [0, 1, 2, 3, 4]\n",
    "print(f\"Liste originale:   {current_row}\")\n",
    "\n",
    "liste_inversee = reverse_list(current_row)\n",
    "print(f\"Liste inversée:    {liste_inversee}\")\n",
    "\n",
    "# Application au labour\n",
    "print(\"\\n Application au champ:\")\n",
    "print(\"Original:  0 → 1 → 2 → 3 → 4\")\n",
    "print(\"Inversé:   4 ← 3 ← 2 ← 1 ← 0\")\n",
    "\n",
    "# ==================== DÉMONSTRATION 2 ====================\n",
    "print(\"\\n\" + \"=\" * 40)\n",
    "print(\" DÉMONSTRATION 2 - Liste désordonnée\")\n",
    "print(\"=\" * 40)\n",
    "\n",
    "current_row = [1, 3, 2, 0, 4]\n",
    "print(f\"Liste originale:   {current_row}\")\n",
    "\n",
    "liste_inversee = reverse_list(current_row)\n",
    "print(f\"Liste inversée:    {liste_inversee}\")\n",
    "\n",
    "# Application au labour\n",
    "print(\"\\n Application au champ:\")\n",
    "print(\"Original:  1 → 3 → 2 → 0 → 4\")\n",
    "print(\"Inversé:   4 ← 0 ← 2 ← 3 ← 1\")\n",
    "\n",
    "# ==================== APPLICATION RÉELLE ====================\n",
    "print(\"\\n\" + \"=\" * 40)\n",
    "print(\" APPLICATION RÉELLE DANS LE CHAMP\")\n",
    "print(\"=\" * 40)\n",
    "\n",
    "def student_function(field):\n",
    "    \"\"\"Labourage intelligent avec demi-tours\"\"\"\n",
    "    plough_movements = []\n",
    "    \n",
    "    for row in range(len(field)):\n",
    "        # Créer la liste des colonnes pour cette rangée\n",
    "        colonnes = list(range(len(field[row])))\n",
    "        \n",
    "        # Inverser pour les rangées impaires\n",
    "        if row % 2 == 1:\n",
    "            colonnes = reverse_list(colonnes)\n",
    "            print(f\"Rangée {row} (impaire): INVERSEE → {colonnes}\")\n",
    "        else:\n",
    "            print(f\"Rangée {row} (paire):   NORMALE  → {colonnes}\")\n",
    "        \n",
    "        # Ajouter chaque mouvement\n",
    "        for col in colonnes:\n",
    "            plough_movements.append((row, col))\n",
    "    \n",
    "    return plough_movements\n",
    "\n",
    "# Petit champ de test 3x3\n",
    "test_field = [\n",
    "    ['soil', 'soil', 'soil'],\n",
    "    ['soil', 'soil', 'soil'],\n",
    "    ['soil', 'soil', 'soil']\n",
    "]\n",
    "\n",
    "print(\"\\n Simulation pour un champ 3x3:\")\n",
    "chemin_test = student_function(test_field)\n",
    "\n",
    "print(f\"\\n Chemin complet ({len(chemin_test)} mouvements):\")\n",
    "for i, (row, col) in enumerate(chemin_test):\n",
    "    direction = \"→\" if row % 2 == 0 else \"←\"\n",
    "    print(f\"Étape {i+1}: ({row},{col}) {direction}\")\n",
    "\n",
    "# ==================== AVANTAGES ====================\n",
    "print(\"\\n\" + \"=\" * 40)\n",
    "print(\" AVANTAGES DE LA MÉTHODE INTELLIGENTE\")\n",
    "print(\"=\" * 40)\n",
    "\n",
    "print(\"1. ⚡ ÉCONOMIE DE TEMPS\")\n",
    "print(\"   - Pas de retour inutile au début de chaque rangée\")\n",
    "print(\"   - Mouvements fluides et continus\")\n",
    "\n",
    "print(\"\\n2.  ÉCONOMIE DE CARBURANT\")\n",
    "print(\"   - Moins de distance parcourue\")\n",
    "print(\"   - Moins d'arrêts et de redémarrages\")\n",
    "\n",
    "print(\"\\n3.  SCORE OPTIMAL\")\n",
    "print(\"   - Évite la pénalité de +20 points par rangée\")\n",
    "print(\"   - Score final beaucoup plus bas\")\n",
    "\n",
    "print(\"\\n4.  RÉALISME\")\n",
    "print(\"   - Comportement identique aux vrais tracteurs\")\n",
    "print(\"   - Méthode utilisée par les agriculteurs professionnels\")\n",
    "\n",
    "print(\"\\n CONCLUSION: La fonction reverse_list() est la clé pour\")\n",
    "print(\"   transformer un labour naïf en labour professionnel!\")   \n",
    "\n",
    "return"
   ]
  },
  {
   "cell_type": "markdown",
   "id": "8b0b38d5",
   "metadata": {},
   "source": [
    "### Expected outputs"
   ]
  },
  {
   "cell_type": "markdown",
   "id": "7d861d96",
   "metadata": {},
   "source": [
    "**Input 1:**"
   ]
  },
  {
   "cell_type": "code",
   "execution_count": null,
   "id": "1db31326",
   "metadata": {},
   "outputs": [],
   "source": [
    "current_row = [0, 1, 2, 3, 4]\n",
    "\n",
    "reverse_list(current_row)"
   ]
  },
  {
   "cell_type": "markdown",
   "id": "d2917b51",
   "metadata": {},
   "source": [
    "**Output:**\n",
    "\n",
    "`[4, 3, 2, 1, 0]`"
   ]
  },
  {
   "cell_type": "markdown",
   "id": "0b07a6d4",
   "metadata": {},
   "source": [
    "<br>\n",
    "\n",
    "**Input 2:**"
   ]
  },
  {
   "cell_type": "code",
   "execution_count": null,
   "id": "ae68d074",
   "metadata": {},
   "outputs": [],
   "source": [
    "current_row = [1, 3, 2, 0, 4]\n",
    "\n",
    "reverse_list(current_row)"
   ]
  },
  {
   "cell_type": "markdown",
   "id": "3e1f2a18",
   "metadata": {},
   "source": [
    "**Output:**\n",
    "\n",
    "`[4, 0, 2, 3, 1]`"
   ]
  },
  {
   "cell_type": "markdown",
   "id": "42d283bd",
   "metadata": {},
   "source": [
    "## Challenge 3: Ploughing a field realistically\n",
    "\n",
    "In this challenge, your task is to create a function that simulates the movement of a tractor across a field in the most efficient manner. The tractor should move from left to right across each row and then reverse direction for the next row. Here's how to approach it:\n",
    "\n",
    "- **Understand the field:** Recognise that the field is a nested list of lists where each element can be accessed using row and column indexes.\n",
    "\n",
    "- **Plan the path:** On even rows (0, 2, 4, ...), the tractor should move from left to right. On odd rows (1, 3, 5, ...), it should move from right to left.\n",
    "\n",
    "- **Implement the logic:** Use loops and conditions to build the path according to the above plan.\n",
    "\n",
    "- **Reuse the `reverse_list` function:** Change the direction of the tractor by reusing code.\n",
    "\n",
    "- **Return the movements:** Your function should ultimately return a list of tuples, with each tuple representing the coordinates (row, column) of each movement.\n",
    "\n",
    "Remember, the goal is to translate a real-world problem into a digital format and solve it using programming.\n",
    "\n",
    "**Hint:** You can begin by using the `tractor_movement_standard()` as a starting point for your implementation."
   ]
  },
  {
   "cell_type": "markdown",
   "id": "342f8520",
   "metadata": {},
   "source": [
    "### Answer"
   ]
  },
  {
   "cell_type": "code",
   "execution_count": null,
   "id": "56b561bf",
   "metadata": {},
   "outputs": [],
   "source": [
    "def student_function(field):\n",
    "\n",
    "    \"\"\"Laboure un champ de façon réaliste en alternant les directions\"\"\"\n",
    "    plough_movements = []\n",
    "    for row in range(len(field)):\n",
    "        colonnes = list(range(len(field[row])))\n",
    "        if row % 2 == 1:  # Lignes impaires\n",
    "            colonnes = reverse_list(colonnes)\n",
    "        for col in colonnes:\n",
    "            plough_movements.append((row, col))\n",
    "    return plough_movements\n",
    "\n",
    "# ==================== CHAMP 1: Field Standard 10x5 ====================\n",
    "field_standard = [\n",
    "    ['soil3', 'soil3', 'soil1', 'soil2', 'soil2'],\n",
    "    ['soil2', 'soil3', 'soil2', 'soil1', 'soil3'],\n",
    "    ['soil2', 'soil3', 'soil1', 'soil3', 'soil3'],\n",
    "    ['soil3', 'soil2', 'soil3', 'soil3', 'soil2'],\n",
    "    ['soil3', 'soil2', 'soil1', 'soil3', 'soil2'],\n",
    "    ['soil2', 'soil3', 'soil3', 'soil1', 'soil3'],\n",
    "    ['soil3', 'soil1', 'soil3', 'soil2', 'soil2'],\n",
    "    ['soil2', 'soil1', 'soil2', 'soil2', 'soil1'],\n",
    "    ['soil1', 'soil1', 'soil3', 'soil2', 'soil3'],\n",
    "    ['soil3', 'soil3', 'soil3', 'soil1', 'soil1']\n",
    "]\n",
    "\n",
    "print(\" CHAMP STANDARD 10x5 (sol varié)\")\n",
    "print(\"=\" * 50)\n",
    "chemin_standard = student_function(field_standard)\n",
    "\n",
    "print(f\"Dimensions: {len(field_standard)} rangées x {len(field_standard[0])} colonnes\")\n",
    "print(f\"Total de cases: {len(chemin_standard)}\")\n",
    "print(f\"Types de sol différents: soil1, soil2, soil3\")\n",
    "\n",
    "# Aperçu du parcours\n",
    "print(\"\\n Aperçu du parcours:\")\n",
    "for i in range(3):  # Début\n",
    "    row, col = chemin_standard[i]\n",
    "    direction = \"→\" if row % 2 == 0 else \"←\"\n",
    "    print(f\"Étape {i+1}: ({row},{col}) {direction} - {field_standard[row][col]}\")\n",
    "\n",
    "print(\"   ...\")\n",
    "\n",
    "for i in range(len(chemin_standard)-3, len(chemin_standard)):  # Fin\n",
    "    row, col = chemin_standard[i]\n",
    "    direction = \"→\" if row % 2 == 0 else \"←\"\n",
    "    print(f\"Étape {i+1}: ({row},{col}) {direction} - {field_standard[row][col]}\")\n",
    "\n",
    "# ==================== CHAMP 2: Field 5x5 Uniforme ====================\n",
    "field_5x5 = [\n",
    "    ['soil', 'soil', 'soil', 'soil', 'soil'],\n",
    "    ['soil', 'soil', 'soil', 'soil', 'soil'],\n",
    "    ['soil', 'soil', 'soil', 'soil', 'soil'],\n",
    "    ['soil', 'soil', 'soil', 'soil', 'soil'],\n",
    "    ['soil', 'soil', 'soil', 'soil', 'soil']\n",
    "]\n",
    "\n",
    "print(\"\\n\" + \"=\" * 50)\n",
    "print(\" CHAMP UNIFORME 5x5 (même sol partout)\")\n",
    "print(\"=\" * 50)\n",
    "chemin_5x5 = student_function(field_5x5)\n",
    "\n",
    "print(f\"Dimensions: {len(field_5x5)} rangées x {len(field_5x5[0])} colonnes\")\n",
    "print(f\"Total de cases: {len(chemin_5x5)}\")\n",
    "print(\"Type de sol: uniforme (soil)\")\n",
    "\n",
    "# Analyse détaillée du parcours 5x5\n",
    "print(\"\\n Analyse détaillée du parcours 5x5:\")\n",
    "print(\"Rangée 0 (paire):  → → → → →\")\n",
    "print(\"Rangée 1 (impaire): ← ← ← ← ←\")\n",
    "print(\"Rangée 2 (paire):  → → → → →\") \n",
    "print(\"Rangée 3 (impaire): ← ← ← ← ←\")\n",
    "print(\"Rangée 4 (paire):  → → → → →\")\n",
    "\n",
    "print(\"\\n Parcours complet 5x5:\")\n",
    "for i, (row, col) in enumerate(chemin_5x5):\n",
    "    direction = \"→\" if row % 2 == 0 else \"←\"\n",
    "    \n",
    "    # Marquage spécial pour les points importants\n",
    "    if (col == 0 and row % 2 == 0) or (col == 4 and row % 2 == 1):\n",
    "        position = \"DÉBUT\"\n",
    "    elif (col == 4 and row % 2 == 0) or (col == 0 and row % 2 == 1):\n",
    "        position = \"FIN\"\n",
    "    else:\n",
    "        position = \"\"\n",
    "    \n",
    "    print(f\"Étape {i+1:2d}: ({row},{col}) {direction} {position}\")\n",
    "\n",
    "# ==================== COMPARAISON ====================\n",
    "print(\"\\n\" + \"=\" * 50)\n",
    "print(\" COMPARAISON DES DEUX LABOURAGES\")\n",
    "print(\"=\" * 50)\n",
    "\n",
    "print(f\"CHAMP 10x5: {len(chemin_standard)} mouvements\")\n",
    "print(f\"CHAMP 5x5:  {len(chemin_5x5)} mouvements\")\n",
    "\n",
    "print(\"\\n AVANTAGES DE LA MÉTHODE INTELLIGENTE:\")\n",
    "print(\" Évite la pénalité de 20 points par rangée\")\n",
    "print(\" Mouvements réalistes comme un vrai tracteur\")\n",
    "print(\" Économie de temps et de carburant\")\n",
    "print(\" Adaptable à n'importe quelle taille de champ\")\n",
    "\n",
    "print(\"\\n TRACTEUR PRÊT POUR TOUS LES CHAMPS! \")    \n",
    "\n",
    "    return"
   ]
  },
  {
   "cell_type": "markdown",
   "id": "01eacd87",
   "metadata": {},
   "source": [
    "### Expected outputs"
   ]
  },
  {
   "cell_type": "markdown",
   "id": "8aa4b3e4",
   "metadata": {},
   "source": [
    "**Input 1:**"
   ]
  },
  {
   "cell_type": "code",
   "execution_count": null,
   "id": "1ec064e4",
   "metadata": {},
   "outputs": [],
   "source": [
    "field_standard = [\n",
    "    ['soil3', 'soil3', 'soil1', 'soil2', 'soil2'],\n",
    "    ['soil2', 'soil3', 'soil2', 'soil1', 'soil3'],\n",
    "    ['soil2', 'soil3', 'soil1', 'soil3', 'soil3'],\n",
    "    ['soil3', 'soil2', 'soil3', 'soil3', 'soil2'],\n",
    "    ['soil3', 'soil2', 'soil1', 'soil3', 'soil2'],\n",
    "    ['soil2', 'soil3', 'soil3', 'soil1', 'soil3'],\n",
    "    ['soil3', 'soil1', 'soil3', 'soil2', 'soil2'],\n",
    "    ['soil2', 'soil1', 'soil2', 'soil2', 'soil1'],\n",
    "    ['soil1', 'soil1', 'soil3', 'soil2', 'soil3'],\n",
    "    ['soil3', 'soil3', 'soil3', 'soil1', 'soil1']\n",
    "]\n",
    "\n",
    "student_function(field_standard)"
   ]
  },
  {
   "cell_type": "markdown",
   "id": "0cf8dd11",
   "metadata": {},
   "source": [
    "**Output**:\n",
    "\n",
    "`[(0, 0), (0, 1), (0, 2), (0, 3), (0, 4), (1, 4), (1, 3), (1, 2), (1, 1), (1, 0), (2, 0), (2, 1), (2, 2), (2, 3), (2, 4), (3, 4), (3, 3), (3, 2), (3, 1), (3, 0), (4, 0), (4, 1), (4, 2), (4, 3), (4, 4), (5, 4), (5, 3), (5, 2), (5, 1), (5, 0), (6, 0), (6, 1), (6, 2), (6, 3), (6, 4), (7, 4), (7, 3), (7, 2), (7, 1), (7, 0), (8, 0), (8, 1), (8, 2), (8, 3), (8, 4), (9, 4), (9, 3), (9, 2), (9, 1), (9, 0)]` \n",
    "\n",
    "Note the tractor goes to the next row, but stays at index 4: `...(0, 4), (1, 4)...`"
   ]
  },
  {
   "cell_type": "markdown",
   "id": "bea49508",
   "metadata": {},
   "source": [
    "<br>\n",
    "\n",
    "**Input 2:**"
   ]
  },
  {
   "cell_type": "code",
   "execution_count": null,
   "id": "cb9eca12",
   "metadata": {},
   "outputs": [],
   "source": [
    "field_5x5 = [\n",
    " ['soil', 'soil', 'soil', 'soil', 'soil'],\n",
    " ['soil', 'soil', 'soil', 'soil', 'soil'],\n",
    " ['soil', 'soil', 'soil', 'soil', 'soil'],\n",
    " ['soil', 'soil', 'soil', 'soil', 'soil'],\n",
    " ['soil', 'soil', 'soil', 'soil', 'soil'],\n",
    "]\n",
    "\n",
    "student_function(field_5x5)"
   ]
  },
  {
   "cell_type": "markdown",
   "id": "60e31bbf",
   "metadata": {},
   "source": [
    "**Output**:\n",
    "\n",
    "`[(0, 0), (0, 1), (0, 2), (0, 3), (0, 4), (1, 4), (1, 3), (1, 2), (1, 1), (1, 0), (2, 0), (2, 1), (2, 2), (2, 3), (2, 4), (3, 4), (3, 3), (3, 2), (3, 1), (3, 0), (4, 0), (4, 1), (4, 2), (4, 3), (4, 4)]`"
   ]
  },
  {
   "cell_type": "markdown",
   "id": "a9e9d6c6",
   "metadata": {},
   "source": [
    "Finally, increase the size of the field to 20x25 and run the simulation again to see the fruits of our hard work!"
   ]
  },
  {
   "cell_type": "code",
   "execution_count": null,
   "id": "96f21a81",
   "metadata": {},
   "outputs": [],
   "source": [
    "field_height = 20\n",
    "field_width =  25\n",
    "\n",
    "field = Field(field_width + 2, field_height + 2)\n",
    "\n",
    "if __name__ == \"__main__\":\n",
    "    main()"
   ]
  },
  {
   "cell_type": "markdown",
   "id": "9f80825a",
   "metadata": {},
   "source": [
    "Remember to transfer your answers to the `GCC_Submit_loops_and_functions.ipynb` file and submit the file."
   ]
  },
  {
   "cell_type": "markdown",
   "id": "3711cb87",
   "metadata": {},
   "source": [
    "<br>"
   ]
  },
  {
   "cell_type": "markdown",
   "id": "26fd094b-0fee-46f1-a4b8-73766813c42b",
   "metadata": {
    "tags": []
   },
   "source": [
    "#  \n",
    "\n",
    "<div align=\"center\" style=\" font-size: 80%; text-align: center; margin: 0 auto\">\n",
    "<img src=\"https://raw.githubusercontent.com/Explore-AI/Pictures/refs/heads/master/ALX_banners/ALX_Navy.png\"  style=\"width:140px\";/>\n",
    "</div>"
   ]
  }
 ],
 "metadata": {
  "kernelspec": {
   "display_name": "Python 3 (ipykernel)",
   "language": "python",
   "name": "python3"
  },
  "language_info": {
   "codemirror_mode": {
    "name": "ipython",
    "version": 3
   },
   "file_extension": ".py",
   "mimetype": "text/x-python",
   "name": "python",
   "nbconvert_exporter": "python",
   "pygments_lexer": "ipython3",
   "version": "3.10.9"
  }
 },
 "nbformat": 4,
 "nbformat_minor": 5
}
