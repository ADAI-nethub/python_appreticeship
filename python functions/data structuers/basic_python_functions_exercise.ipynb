{
 "cells": [
  {
   "cell_type": "markdown",
   "metadata": {},
   "source": [
    "<div align=\"center\" style=\" font-size: 80%; text-align: center; margin: 0 auto\">\n",
    "<img src=\"https://raw.githubusercontent.com/Explore-AI/Pictures/master/Python-Notebook-Banners/Exercise.png\"  style=\"display: block; margin-left: auto; margin-right: auto;\";/>\n",
    "</div>"
   ]
  },
  {
   "attachments": {},
   "cell_type": "markdown",
   "id": "f662d169",
   "metadata": {},
   "source": [
    "# Exercise: Basic Python functions\n"
   ]
  },
  {
   "attachments": {},
   "cell_type": "markdown",
   "id": "26af890c",
   "metadata": {},
   "source": [
    "In this exercise, we will explore the fundamental concepts of Python functions and how they can be used in practice. We will be led through hands-on coding exercises that will emphasise basic concepts related to building simple functions and utilising built-in functions."
   ]
  },
  {
   "attachments": {},
   "cell_type": "markdown",
   "id": "2d230d14",
   "metadata": {
    "tags": []
   },
   "source": [
    "## Learning objectives\n",
    "\n",
    "By the end of this exercise, you should be able to:\n",
    "- Understand how to use basic built-in functions.\n",
    "- Create user-defined functions based on specific needs."
   ]
  },
  {
   "cell_type": "markdown",
   "metadata": {},
   "source": [
    "## Exercises"
   ]
  },
  {
   "attachments": {},
   "cell_type": "markdown",
   "id": "5a0b7683",
   "metadata": {
    "tags": []
   },
   "source": [
    "### Exercice 1\n",
    "\n",
    "À partir d'une liste d'hectares de terres déboisées sur cinq ans, calculez le total des émissions de carbone sur ces années à l'aide des fonctions intégrées.\n",
    "\n",
    " Les émissions totales de carbone sont calculées en additionnant les hectares de terres déboisées et en multipliant le total par un facteur d'émissions de carbone de 40.\n",
    "\n",
    " Conseil :\n",
    " * Créez une variable appelée `total_deforested_land`, le résultat de l'addition des hectares de terres déboisées à l'aide de la fonction `sum`.\n",
    " * Créez une variable appelée `total_carbon_emission`, le résultat de la multiplication de la variable `total_deforested_land` avec le facteur d'émissions de carbone."
   ]
  },
  {
   "cell_type": "code",
   "execution_count": 30,
   "id": "788218d7",
   "metadata": {},
   "outputs": [
    {
     "data": {
      "text/plain": [
       "2600"
      ]
     },
     "execution_count": 30,
     "metadata": {},
     "output_type": "execute_result"
    }
   ],
   "source": [
    "# Deforested land for each year\n",
    "deforested_land = [10, 15, 8, 12, 20]\n",
    "\n",
    "# Carbon emission factor (tons of CO2 per hectare)\n",
    "carbon_emission_factor = 40\n",
    "\n",
    "deforested_land = [10, 15, 8, 12, 20]\n",
    "#   On fait une liste avec le nombre d'hectares de forêt coupée chaque année pendant 5 ans\n",
    "\n",
    "sum(deforested_land)\n",
    "#La fonction sum() fait l'addition de tous les nombres dans la liste\n",
    " #   → 10 + 15 + 8 + 12 + 20 = 65 hectares\n",
    "\n",
    "total_deforested_land * 40\n",
    "   # → On multiplie le total par 40 parce que chaque hectare coupé produit 40 tonnes de carbone\n",
    "    #→ 65 × 40 = 2600 tonnes de carbone"
   ]
  },
  {
   "attachments": {},
   "cell_type": "markdown",
   "id": "fd52109b",
   "metadata": {},
   "source": [
    "Print the `total_deforested_land` and `total_carbon_emission` variables."
   ]
  },
  {
   "cell_type": "code",
   "execution_count": 31,
   "metadata": {},
   "outputs": [
    {
     "ename": "TypeError",
     "evalue": "'int' object is not callable",
     "output_type": "error",
     "traceback": [
      "\u001b[0;31m---------------------------------------------------------------------------\u001b[0m",
      "\u001b[0;31mTypeError\u001b[0m                                 Traceback (most recent call last)",
      "Cell \u001b[0;32mIn[31], line 10\u001b[0m\n\u001b[1;32m      7\u001b[0m total_carbon_emission \u001b[38;5;241m=\u001b[39m total_deforested_land \u001b[38;5;241m*\u001b[39m \u001b[38;5;241m40\u001b[39m  \u001b[38;5;66;03m# = 65 × 40 = 2600\u001b[39;00m\n\u001b[1;32m      9\u001b[0m \u001b[38;5;66;03m# Affichage des résultats (AVEC LA VRAIE FONCTION print)\u001b[39;00m\n\u001b[0;32m---> 10\u001b[0m \u001b[38;5;28;43mprint\u001b[39;49m\u001b[43m(\u001b[49m\u001b[43mtotal_deforested_land\u001b[49m\u001b[43m)\u001b[49m   \u001b[38;5;66;03m# Affiche 65\u001b[39;00m\n\u001b[1;32m     11\u001b[0m \u001b[38;5;28mprint\u001b[39m(total_carbon_emission)   \u001b[38;5;66;03m# Affiche 2600\u001b[39;00m\n",
      "\u001b[0;31mTypeError\u001b[0m: 'int' object is not callable"
     ]
    }
   ],
   "source": [
    "deforested_land = [10, 15, 8, 12, 20]\n",
    "\n",
    "# Calcul du total des terres déboisées\n",
    "total_deforested_land = sum(deforested_land)  # = 65\n",
    "\n",
    "# Calcul des émissions de carbone (CORRECT)\n",
    "total_carbon_emission = total_deforested_land * 40  # = 65 × 40 = 2600\n",
    "\n",
    "# Affichage des résultats (AVEC LA VRAIE FONCTION print)\n",
    "print(total_deforested_land)   # Affiche 65\n",
    "print(total_carbon_emission)   # Affiche 2600\n"
   ]
  },
  {
   "attachments": {},
   "cell_type": "markdown",
   "metadata": {},
   "source": [
    "### Exercise 2\n",
    "\n",
    "Crée une fonction nommée acres_to_hectares qui accepte un paramètre représentant la superficie d'une forêt en acres et retourne la superficie correspondante en hectares en multipliant les acres par un taux de conversion de 0,404686.\n",
    "\n",
    "N'oublie pas d'inclure les docstrings de la fonction."
   ]
  },
  {
   "cell_type": "code",
   "execution_count": 32,
   "metadata": {},
   "outputs": [
    {
     "ename": "TypeError",
     "evalue": "'int' object is not callable",
     "output_type": "error",
     "traceback": [
      "\u001b[0;31m---------------------------------------------------------------------------\u001b[0m",
      "\u001b[0;31mTypeError\u001b[0m                                 Traceback (most recent call last)",
      "Cell \u001b[0;32mIn[32], line 15\u001b[0m\n\u001b[1;32m     13\u001b[0m     \u001b[38;5;66;03m# Convertir 100 acres en hectares\u001b[39;00m\n\u001b[1;32m     14\u001b[0m resultat \u001b[38;5;241m=\u001b[39m acres_to_hectares(\u001b[38;5;241m100\u001b[39m)\n\u001b[0;32m---> 15\u001b[0m \u001b[38;5;28;43mprint\u001b[39;49m\u001b[43m(\u001b[49m\u001b[38;5;124;43mf\u001b[39;49m\u001b[38;5;124;43m\"\u001b[39;49m\u001b[38;5;124;43m100 acres = \u001b[39;49m\u001b[38;5;132;43;01m{\u001b[39;49;00m\u001b[43mresultat\u001b[49m\u001b[38;5;132;43;01m:\u001b[39;49;00m\u001b[38;5;124;43m.2f\u001b[39;49m\u001b[38;5;132;43;01m}\u001b[39;49;00m\u001b[38;5;124;43m hectares\u001b[39;49m\u001b[38;5;124;43m\"\u001b[39;49m\u001b[43m)\u001b[49m  \u001b[38;5;66;03m# Affiche: 100 acres = 40.47 hectares\u001b[39;00m\n",
      "\u001b[0;31mTypeError\u001b[0m: 'int' object is not callable"
     ]
    }
   ],
   "source": [
    "def acres_to_hectares(acres):\n",
    "    \"\"\"\n",
    "    Convertit une superficie d'acres en hectares.\n",
    "    \n",
    "    Parameters:\n",
    "    acres (float): La superficie en acres à convertir\n",
    "    \n",
    "    Returns:\n",
    "    float: La superficie équivalente en hectares\n",
    "    \"\"\"\n",
    "    return acres * 0.404686\n",
    "\n",
    "    # Convertir 100 acres en hectares\n",
    "resultat = acres_to_hectares(100)\n",
    "print(f\"100 acres = {resultat:.2f} hectares\")  # Affiche: 100 acres = 40.47 hectares"
   ]
  },
  {
   "attachments": {},
   "cell_type": "markdown",
   "id": "8bcc8c85",
   "metadata": {},
   "source": [
    "Use the function above to convert a forest area of 50 acres to hectares."
   ]
  },
  {
   "cell_type": "code",
   "execution_count": null,
   "id": "4d81db66",
   "metadata": {},
   "outputs": [],
   "source": [
    "# Your code here..."
   ]
  },
  {
   "attachments": {},
   "cell_type": "markdown",
   "id": "808a6af5",
   "metadata": {},
   "source": [
    "### Exercise 3\n",
    "\n",
    "Using the data representing the deforested land in hectares over the years, calculate and print the average deforested land using the `sum` and `len` built-in functions.\n",
    "\n",
    "Hint:\n",
    "* Create a variable called `average_deforested_land` by adding the hectares of the deforested land together using the `sum` function and then dividing it by the number of values in the list, which can be derived using the `len` function."
   ]
  },
  {
   "cell_type": "code",
   "execution_count": null,
   "id": "65e9830a",
   "metadata": {},
   "outputs": [],
   "source": [
    "# Deforested land for each year\n",
    "deforested_land = [10, 15, 8, 12, 20]\n",
    "\n",
    "# Your code here\n"
   ]
  },
  {
   "attachments": {},
   "cell_type": "markdown",
   "id": "5b3591ba",
   "metadata": {},
   "source": [
    "Print the `average_deforested_land` variable."
   ]
  },
  {
   "cell_type": "code",
   "execution_count": null,
   "id": "7fccb10e",
   "metadata": {},
   "outputs": [],
   "source": [
    "# Your code here..."
   ]
  },
  {
   "cell_type": "markdown",
   "metadata": {},
   "source": [
    "## Solutions"
   ]
  },
  {
   "attachments": {},
   "cell_type": "markdown",
   "metadata": {},
   "source": [
    "### Exercise 1"
   ]
  },
  {
   "cell_type": "code",
   "execution_count": null,
   "metadata": {},
   "outputs": [],
   "source": [
    "# Deforested land for each year\n",
    "deforested_land = [10, 15, 8, 12, 20]\n",
    "\n",
    "# Carbon emission factor (tons of CO2 per hectare)\n",
    "carbon_emission_factor = 40\n",
    "\n",
    "# Calculate the total carbon emission using built-in functions\n",
    "total_deforested_land = sum(deforested_land)\n",
    "total_carbon_emission = total_deforested_land * carbon_emission_factor"
   ]
  },
  {
   "cell_type": "code",
   "execution_count": null,
   "id": "c2c26fbb",
   "metadata": {},
   "outputs": [],
   "source": [
    "print(total_deforested_land)\n",
    "print(total_carbon_emission)"
   ]
  },
  {
   "attachments": {},
   "cell_type": "markdown",
   "metadata": {},
   "source": [
    "The `sum()` function is used to calculate the total deforested land, which is then multiplied by the carbon emission factor to obtain the total carbon emission. Each of these calculations is placed in a variable, which we can print to view its value."
   ]
  },
  {
   "attachments": {},
   "cell_type": "markdown",
   "metadata": {},
   "source": [
    "### Exercise 2\n"
   ]
  },
  {
   "cell_type": "code",
   "execution_count": null,
   "metadata": {},
   "outputs": [],
   "source": [
    "def acres_to_hectares(acres):\n",
    "    \"\"\"\n",
    "    Convert acres to hectares.\n",
    "\n",
    "    Parameters:\n",
    "    - acres (float): The area in acres.\n",
    "\n",
    "    Returns:\n",
    "    - float: The equivalent area in hectares.\n",
    "    \"\"\"\n",
    "    hectares = acres * 0.404686\n",
    "    return hectares"
   ]
  },
  {
   "cell_type": "code",
   "execution_count": null,
   "id": "cf109f4c",
   "metadata": {},
   "outputs": [],
   "source": [
    "print(acres_to_hectares(50))"
   ]
  },
  {
   "attachments": {},
   "cell_type": "markdown",
   "metadata": {},
   "source": [
    "A function named `acres_to_hectares` is defined to convert an area from acres to hectares. The function takes the number of acres as a parameter, multiplies it by the conversion factor (1 acre = 0.404686 hectares), and returns the equivalent area in hectares. The conversion function is then used to convert an area of 50 acres to hectares, and the result is printed."
   ]
  },
  {
   "attachments": {},
   "cell_type": "markdown",
   "id": "2349af35",
   "metadata": {},
   "source": [
    "### Exercise 3"
   ]
  },
  {
   "cell_type": "code",
   "execution_count": null,
   "id": "2336b058",
   "metadata": {},
   "outputs": [],
   "source": [
    "# Deforested land for different regions\n",
    "deforested_land = [25, 30, 20, 15, 18]\n",
    "\n",
    "# Calculate the average deforested area using built-in functions\n",
    "average_deforested_land = sum(deforested_land) / len(deforested_land)"
   ]
  },
  {
   "cell_type": "code",
   "execution_count": null,
   "id": "7c8d54ab",
   "metadata": {},
   "outputs": [],
   "source": [
    "print(average_deforested_land)"
   ]
  },
  {
   "cell_type": "markdown",
   "id": "26fd094b-0fee-46f1-a4b8-73766813c42b",
   "metadata": {
    "tags": []
   },
   "source": [
    "#  \n",
    "\n",
    "<div align=\"center\" style=\" font-size: 80%; text-align: center; margin: 0 auto\">\n",
    "<img src=\"https://raw.githubusercontent.com/Explore-AI/Pictures/refs/heads/master/ALX_banners/ALX_Navy.png\"  style=\"width:140px\";/>\n",
    "</div>"
   ]
  }
 ],
 "metadata": {
  "kernelspec": {
   "display_name": "Python 3",
   "language": "python",
   "name": "python3"
  },
  "language_info": {
   "codemirror_mode": {
    "name": "ipython",
    "version": 3
   },
   "file_extension": ".py",
   "mimetype": "text/x-python",
   "name": "python",
   "nbconvert_exporter": "python",
   "pygments_lexer": "ipython3",
   "version": "3.10.12"
  }
 },
 "nbformat": 4,
 "nbformat_minor": 5
}
