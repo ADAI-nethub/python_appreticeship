QUESTION1
#What is the Big-O notation for the worst-case time complexity of the following function?
#def find_element(arr, x):
    for element in arr:
        if element == x:
            return True
    return False


What is the Big-O notation for the worst-case time complexity of the following function?

def find_element(arr, x):
    for element in arr:
        if element == x:
            return True
    return False

animal_list = ["Lion", "Elephant", "Tiger", "Giraffe", "Zebra", "Panda", "Kangaroo", "Penguin"]

find_element(animal_list , "Penguin")


Imagine This:

The function find_element is like looking for your favorite toy in a big toy box.

    arr is the toy box (a list of all your toys).

    x is the specific toy you want to find (like your red race car).

How Does the Search Work?

The function works like this:

    It takes one toy out of the box.

    It looks at it: "Is this my red race car?"

    If YES: It gets very happy and says "True! I found it!" and stops looking immediately.

    If NO: It puts that toy aside and grabs the next one to check.

It will keep doing this until it either finds the toy or until it has looked at every single toy in the box.
The "Worst-Case" Situation

The "worst-case" is the situation that would take the longest possible time.

When would that happen?
When the toy you are looking for is not in the box at all OR it's the very last toy in the box.

In both of these cases, the function has to pick up every single toy and look at it before it can finally say "False, it's not here" or find it at the very end.
The Big-O Notation

Now, let's think about how much work this is.

If you have 10 toys (n = 10), you might have to check 10 times.
If you have 100 toys (n = 100), you might have to check 100 times.
If you have 1,000 toys (n = 1000), you might have to check 1,000 times.

The number of checks grows directly in proportion to the number of items n in the box. If the number of toys doubles, the worst-case time it takes also doubles.

We call this a "Linear" relationship. It draws a straight line on a graph.

In Big-O notation, we say this is:

O(n)

We pronounce this "Big O of n".
Summary
If the number of items (n) is...	In the worst case, the number of checks is...	This is called...	Big-O Notation
10	10	Linear	O(n)
100	100	Linear	O(n)
1000	1000	Linear	O(n)

So, the worst-case time complexity of the find_element function is O(n).






QUESTION2
#Rearrange the following lines to correctly implement a bubble sort algorithm for a list.
#What is the output if…
#def bubble_sort(items):
#return items
#for j in range(len(items)-1-i):
#if items[j] > items[j+1]:
#""" Implementation of bubble sort."""
#items[j], items[j+1] = items[j+1], items[j]
#for i in range(len(items)):


Voici les lignes réarrangées pour implémenter correctement un algorithme de tri à bulles :
python

def bubble_sort(items):
    """ Implementation of bubble sort."""
    for i in range(len(items)):
        for j in range(len(items)-1-i):
            if items[j] > items[j+1]:
                items[j], items[j+1] = items[j+1], items[j]
    return items

Explication de l'organisation :

    Documentation : La docstring """ Implementation of bubble sort.""" doit être au début de la fonction

    Boucle externe : for i in range(len(items)): contrôle le nombre de passes

    Boucle interne : for j in range(len(items)-1-i): compare les éléments adjacents

    Condition de swap : if items[j] > items[j+1]: vérifie si les éléments sont dans le mauvais ordre

    Échange : items[j], items[j+1] = items[j+1], items[j] permute les éléments

    Return : return items retourne la liste triée

Fonctionnement du tri à bulles :

    Le tri à bulles fait remonter les plus grands éléments comme des bulles

    À chaque passe complète, le plus grand élément non trié se place à sa position finale

    La boucle interne évite de comparer les éléments déjà triés (-i)

    La complexité est O(n²) dans le pire cas

Exemple d'output :
Si items = [64, 34, 25, 12, 22, 11, 90]
Output : [11, 12, 22, 25, 34, 64, 90]





QUESTION3
#Rearrange the following code to correctly define a Python class representing a BankAccount with a method to deposit funds.
#Which of the following lines of code will open a new bank account with a balance of 100, deposit an additional 50, and print the balance?
#def deposit(self, amount):
 self.balance += amount
#class BankAccount:
 def __init__(self, balance):
 self.balance = balance


C'est comme créer un nouveau jeu avec des règles !

Imagine que tu veux créer un jeu vidéo où on peut avoir un compte bancaire. Pour créer ce jeu, il faut d'abord écrire les règles pour dire à l'ordinateur ce qu'est un compte bancaire et ce qu'on peut faire avec.
Étape 1 : Écrire les règles (Créer la classe)

On doit d'abord dire : "Voici la recette pour faire un compte bancaire". En Python, on utilise le mot class.

    Commence par la grande boîte : class BankAccount: → On dit : "Voici les règles pour un CompteBancaire".

    La première règle : comment le créer ? : La fonction __init__ est comme la première action quand on ouvre un nouveau compte. Elle dit : "Quand quelqu'un ouvre un compte, il doit commencer avec une certaine somme d'argent (balance)".
    python

def __init__(self, balance):
    self.balance = balance

La deuxième règle : comment ajouter de l'argent ? : Ensuite, on crée une action pour déposer de l'argent. On l'appelle deposit.
python

def deposit(self, amount):
    self.balance += amount

Voici les règles bien organisées :
python

class BankAccount:
    def __init__(self, balance):
        self.balance = balance
        
    def deposit(self, amount):
        self.balance += amount

Étape 2 : Jouer au jeu ! (Utiliser la classe)

Maintenant qu'on a écrit les règles, on peut jouer et créer un vrai compte.

Prenons les actions une par une :

    "Ouvrir un nouveau compte avec un solde de 100"

        On utilise le nom de notre règle (BankAccount) et on lui donne le montant de départ (100) entre parenthèses.

        mon_compte = BankAccount(100)

    "Déposer 50 supplémentaires"

        On prend notre compte (mon_compte) et on utilise l'action deposit qu'on a créée.

        On lui dit combien on veut déposer (50) entre parenthèses.

        mon_compte.deposit(50)

    "Imprimer le solde"

        Pour voir combien il y a d'argent sur le compte, on regarde ce qu'il y a dans balance.

        print(mon_compte.balance)

La bonne ligne de code est donc :

mon_compte = BankAccount(100) → On crée le compte
mon_compte.deposit(50) → On ajoute 50
print(mon_compte.balance) → On regarde le total
Et ça affichera : 150

Parce que 100 (au départ) + 50 (déposés) = 150 !



QUESTION4
#Rearrange the following lines to create a function that uses recursion to reverse a string.
#Which of the following answers is correct, given the correctly rearranged code and function calls provided?
#if len(s) == 0:
#return s
#return r(s[1:]) + s[0]
#def r(s)


C'est comme une équipe de super-héros qui se passe un message !

Imagine que tu as un mot, par exemple "SALUT". Tu veux l'écrire à l'envers pour faire "TULAS".

Au lieu de le faire toi-même tout seul, tu vas former une petite équipe de super-héros. Chaque héros ne peut faire qu'une toute petite partie du travail, mais ensemble, ils sont très forts !
Voici comment ton équipe de super-héros fonctionne :

La règle du chef d'équipe (la fonction) :
python

def r(s):

La première mission du chef :
"Si on me donne un message vide, je n'ai rien à faire !"
python

    if len(s) == 0:
        return s

La mission spéciale (la partie magique) :

    "Je prends la première lettre du mot (S) et je la garde de côté."

    "Je confie le reste du mot (ALUT) au héros numéro 2 en lui disant : 'À toi de le renverser !'"

    "Quand le héros numéro 2 me rapporte le mot renversé (TULA), je colle la lettre que j'avais gardée (S) à la fin."

En code, ça donne :
python

    return r(s[1:]) + s[0]

On assemble toute l'équipe :

Voici les lignes dans le bon ordre pour que l'équipe fonctionne :
python

def r(s):
    if len(s) == 0:
        return s
    return r(s[1:]) + s[0]

⚡ Et maintenant, l'équipe entre en action avec le mot "SALUT" !

    Héros 1 a "SALUT"

        Il garde "S" et dit : "Héros 2, renverse-moi 'ALUT' !"

    Héros 2 a "ALUT"

        Il garde "A" et dit : "Héros 3, renverse-moi 'LUT' !"

    Héros 3 a "LUT"

        Il garde "L" et dit : "Héros 4, renverse-moi 'UT' !"

    Héros 4 a "UT"

        Il garde "U" et dit : "Héros 5, renverse-moi 'T' !"

    Héros 5 a "T"

        Il garde "T" et dit : "Héros 6, renverse-moi '' !" (une chaîne vide)

    Héros 6 a ""

        "Il n'y a rien ! Je renvoie rien."

Maintenant, on remonte la chaîne :

    Héros 6 renvoie "" à Héros 5

    Héros 5 ajoute son "T" : "" + "T" = "T"

    Héros 5 renvoie "T" à Héros 4

    Héros 4 ajoute son "U" : "T" + "U" = "TU"

    Héros 4 renvoie "TU" à Héros 3

    Héros 3 ajoute son "L" : "TU" + "L" = "TUL"

    Héros 3 renvoie "TUL" à Héros 2

    Héros 2 ajoute son "A" : "TUL" + "A" = "TULA"

    Héros 2 renvoie "TULA" à Héros 1

    Héros 1 ajoute son "S" : "TULA" + "S" = "TULAS"

Et voilà ! Le mot "SALUT" a été renversé en "TULAS" !
La bonne réponse est donc :

r("hello") donnera "olleh"

Parce que si on applique la même méthode magique à "hello", on obtient son inverse !







QUESTION5
#What is the lambda expression required to filter out negative numbers from a list:
#numbers = [-2, 5, -9, 8, -1, 10]
#result = filter(, numbers)
#print(list(result))


C'est comme faire le tri dans ton sac de bonbons !

Imagine que tu as un sac avec des bonbons. Sur certains bonbons, il est écrit "–" (un signe négatif). Ce sont des bonbons qui ont un mauvais goût. Tu veux les enlever pour ne garder que les bons bonbons !

    numbers = [-2, 5, -9, 8, -1, 10] → C'est ton sac de bonbons avec les bons et les mauvais.

    filter() → C'est un filtre magique qui va trier tes bonbons.

    lambda → C'est une petite instruction que tu donnes au filtre magique pour lui expliquer quelle est la règle pour garder un bonbon ou le jeter.

⚡ La règle à donner au filtre magique :

Tu dois dire au filtre : "Garde seulement les bonbons qui sont PLUS GRANDS ou ÉGAUX à ZÉRO."

Pourquoi ? Parce que les mauvais bonbons (négatifs) ont des nombres plus petits que zéro !

En langage Python, on écrit cette règle comme ça :
lambda x: x >= 0

    lambda : C'est le mot qui dit "Voici une petite règle"

    x : Ça représente chaque bonbon (chaque nombre) que le filtre regarde

    x >= 0 : C'est la règle : "Ce bonbon est-il supérieur ou égal à 0 ?"

On met tout ensemble :
python

numbers = [-2, 5, -9, 8, -1, 10]
result = filter(lambda x: x >= 0, numbers) # Le filtre magique avec la règle
print(list(result))

🔍 Que va-t-il se passer ?

Le filtre magique va prendre chaque nombre et appliquer la règle :

    -2 >= 0 ? → Non (Faux) → JETÉ !

    5 >= 0 ? → Oui (Vrai) → GARDÉ !

    -9 >= 0 ? → Non (Faux) → JETÉ !

    8 >= 0 ? → Oui (Vrai) → GARDÉ !

    -1 >= 0 ? → Non (Faux) → JETÉ !

    10 >= 0 ? → Oui (Vrai) → GARDÉ !

Le résultat final sera :

[5, 8, 10]

Ce sont tous les bons bonbons, ceux qui étaient positifs (ou nuls) ! Les mauvais bonbons négatifs ont été filtrés et jetés.





QUESTION6
#Rearrange the following code to correctly implement a Python class for a Circle, including a method to calculate the circumference.
#Which of the following options give the correct answer, given that the radius of the circle is 3?
#def __init__(self, radius):
#self.radius = radius
#return 2 * 3.14159 * self.radius
#class Circle:
#def circumference(self):


C'est comme créer un modèle pour dessiner des cercles !

Imagine que tu veux dessiner plein de cercles de différentes tailles. Pour ne pas avoir à recalculer à chaque fois le tour du cercle (la circonférence), tu vas créer une machine à calculer spéciale pour les cercles.
Étape 1 : Construire la machine (Créer la classe)

On commence par dire : "Voici comment on fabrique une machine pour un cercle". En Python, on utilise le mot class.

    Donner un nom à la machine : class Circle: → "Voici la machine pour un Cercle".

    Expliquer comment l'allumer : La fonction __init__ est comme le bouton "ON" de la machine. Quand on l'allume, il faut lui donner une information : le rayon du cercle.
    python

def __init__(self, radius):
    self.radius = radius

    radius veut dire "rayon" en anglais. C'est la distance entre le centre du cercle et son bord.

    self.radius signifie "souviens-toi de la taille du rayon pour ce cercle".

Ajouter un bouton "Calculer le tour" : Ensuite, on crée un bouton qui calcule le tour du cercle (la circonférence) quand on appuie dessus.
python

def circumference(self):
    return 2 * 3.14159 * self.radius

        La formule pour calculer le tour d'un cercle est : 2 × π × rayon

        Ici, on utilise une valeur approximative pour π (Pi) : 3.14159

Voici la machine bien assemblée :
python

class Circle:
    def __init__(self, radius):
        self.radius = radius
        
    def circumference(self):
        return 2 * 3.14159 * self.radius

Étape 2 : Utiliser la machine !

Maintenant, utilisons notre machine pour un cercle qui a un rayon de 3.

    On crée un cercle de rayon 3 :

        mon_cercle = Circle(3) → "Machine, crée-moi un cercle avec un rayon de 3 !"

    On calcule son tour (sa circonférence) :

        mon_cercle.circumference() → "Machine, appuie sur le bouton pour calculer le tour !"

🔢 Faisons le calcul ensemble :

La machine va faire : 2 × 3.14159 × 3

    3.14159 × 3 = 9.42477

    2 × 9.42477 = 18.84954

Le résultat sera donc :

18.84954

C'est la longueur du tour d'un cercle qui a un rayon de 3. Si tu prenais une ficelle, il te faudrait une ficelle de cette longueur pour faire le tour complet de ce cercle !








QUESTION7

#Rearrange the following code to correctly define a Python class representing a rectangle, which includes methods for calculating area and perimeter. 
#What will be the output of the following code?
#return 2 * (self.width + self.height)
#def perimeter(self):
#return self.width * self.height
#class Rectangle:
#def __init__(self, width, height):
#self.width = width
#self.height = height
#def area(self):

rect = Rectangle(3, 4)
print("Area:", rect.area(), "Perimeter:", rect.perimeter())


C'est comme créer une machine à calculer pour les rectangles !

Imagine que tu veux une machine qui peut te donner rapidement l'aire (la surface) et le périmètre (le tour) de n'importe quel rectangle. Tu vas créer cette machine en Python !
Étape 1 : Construire la machine (Créer la classe)

On commence par dire : "Voici comment on fabrique une machine pour un rectangle". En Python, on utilise le mot class.

    Donner un nom à la machine : class Rectangle: → "Voici la machine pour un Rectangle".

    Expliquer comment l'allumer : La fonction __init__ est comme le bouton "ON". Quand on l'allume, il faut lui donner deux informations : la largeur et la hauteur du rectangle.
    python

def __init__(self, width, height):
    self.width = width
    self.height = height

    La machine se souvient de la largeur (width) et de la hauteur (height).

Ajouter un bouton "Calculer l'aire" :
python

def area(self):
    return self.width * self.height

    L'aire, c'est la surface. Pour la calculer, on multiplie la largeur par la hauteur.

Ajouter un bouton "Calculer le périmètre" :
python

def perimeter(self):
    return 2 * (self.width + self.height)

        Le périmètre, c'est le tour. Pour le calculer, on additionne la largeur et la hauteur, puis on multiplie par 2.

Voici la machine bien assemblée :
python

class Rectangle:
    def __init__(self, width, height):
        self.width = width
        self.height = height
        
    def area(self):
        return self.width * self.height
        
    def perimeter(self):
        return 2 * (self.width + self.height)

Étape 2 : Utiliser la machine !

Maintenant, utilisons notre machine pour un rectangle de 3 cm de large et 4 cm de haut.

    On crée le rectangle :

        rect = Rectangle(3, 4) → "Machine, crée-moi un rectangle de 3 cm sur 4 cm !"

    On calcule son aire et son périmètre :

        rect.area() → "Machine, calcule l'aire !"

        rect.perimeter() → "Machine, calcule le périmètre !"

🔢 Faisons les calculs ensemble :

Pour l'aire (la surface) :
3 × 4 = 12

Pour le périmètre (le tour) :
(3 + 4) = 7
7 × 2 = 14
Le résultat sera donc :

Area: 12 Perimeter: 14

Cela veut dire que :

    La surface de ce rectangle est de 12 carrés de 1 cm de côté

    Le tour de ce rectangle mesure 14 cm

Si tu devais dessiner ce rectangle et faire le tour avec un crayon, ton trait ferait 14 cm de long !






QUESTION8

#Rearrange the following lines of code to create a lambda function that squares each number in a list, using the map function:
#print(list(result))
#result = map(lambda x: x**2, numbers)
#numbers = [1, 2, 3, 4, 5]

c'est comme utiliser une machine magique qui transforme les nombres !

Imagine que tu as une liste de nombres : [1, 2, 3, 4, 5]. Tu veux que chaque nombre soit multiplié par lui-même (on appelle ça "mettre au carré").

    1 × 1 = 1

    2 × 2 = 4

    3 × 3 = 9

    4 × 4 = 16

    5 × 5 = 25

Au lieu de faire tous les calculs toi-même, tu vas utiliser une machine magique appelée map !
Les ingrédients de ta machine magique :

    La liste de nombres : numbers = [1, 2, 3, 4, 5] → Ce sont les nombres à transformer.

    La formule magique : lambda x: x**2 → C'est la petite instruction que tu donnes à la machine. Elle signifie : "Prends un nombre (x) et élève-le au carré (x**2)".

        x**2 veut dire "x puissance 2", c'est-à-dire "x multiplié par x".

    La machine magique : map() → C'est la machine qui va prendre chaque nombre de la liste et lui appliquer la formule magique.

    Le résultat : print(list(result)) → Pour voir le résultat de la transformation.

⚡ Comment assembler ta machine magique :

D'abord, tu prépares ta liste de nombres :
python

numbers = [1, 2, 3, 4, 5]

Ensuite, tu utilises la machine map avec ta formule magique :
python

result = map(lambda x: x**2, numbers)

Enfin, tu regardes le résultat :
python

print(list(result))

🧙‍♂️ Que va faire la machine magique ?

Elle va prendre chaque nombre et lui appliquer la formule x**2 :

    Prendre 1 → 1**2 = 1

    Prendre 2 → 2**2 = 4

    Prendre 3 → 3**2 = 9

    Prendre 4 → 4**2 = 16

    Prendre 5 → 5**2 = 25

Le résultat final sera :

[1, 4, 9, 16, 25]
C'est ta liste de départ, mais avec chaque nombre transformé en son carré ! La machine magique a parfaitement fonctionné !








QUESTION9

#Identify the line that violates the PEP 8 style guidelines:

class ExampleClass:
def __init__(self,value):
self.value = value
def get_value(self):
return self.value

C'est comme apprendre les règles de présentation d'une rédaction !

En Python, il existe des règles de style appelées PEP 8. C'est un peu comme quand ton professeur te dit :

    "Saute une ligne entre le titre et le texte"

    "Fais un alinéa au début de chaque paragraphe"

    "Met une majuscule au début de chaque phrase"

Ces règles permettent à tout le monde de lire et comprendre ton code plus facilement.
🔍 Analysons le code :
python

class ExampleClass:
def __init__(self,value):  # ← Cette ligne a deux problèmes !
self.value = value
def get_value(self):
return self.value

Les deux erreurs sur la même ligne :

1. Problème d'indentation (le décalage)

    Après la ligne class ExampleClass:, les méthodes (les fonctions dans la classe) doivent être décalées de 4 espaces vers la droite.

    Ici, def __init__ est collé tout à gauche, sans décalage !

C'est comme si tu écrivais ton paragraphe sans faire d'alinéa !

2. Problème d'espace après la virgule

    Quand tu écris (self,value), il faut mettre un espace après la virgule.

    Il devrait être écrit : (self, value)

C'est comme si tu écrivais "bonjour,comment vas-tu ?" au lieu de "bonjour, comment vas-tu ?"
✅ Voici comment le code devrait être écrit :
python

class ExampleClass:
    def __init__(self, value):  # 4 espaces + espace après la virgule
        self.value = value      # 8 espaces (encore plus décalé)
        
    def get_value(self):        # 4 espaces
        return self.value       # 8 espaces

Résumé des règles PEP 8 utilisées :

    Indentation : 4 espaces pour chaque niveau

    Espaces après les virgules : toujours un espace après une virgule dans les paramètres

    Lignes vides : une ligne vide entre les méthodes d'une classe

La ligne qui viole les règles PEP 8 est donc :
def __init__(self,value):

Parce qu'elle n'est pas indentée et qu'il manque un espace après la virgule !







QUESTION10
The following Python code is meant to calculate the total area of two different shapes, but it contains an error. Identify and correct the error.

class Shape:
    def __init__(self, name):
        self.name = name

class Circle(Shape):
    def __init__(self, radius):
        super().__init__("Circle")
        self.radius = radius

    def area(self):
        return 3.14 * self.radius * self.radius
class Square(Shape):
    def __init__(self, side):
        super().__init__("Square")
        self.side = side

    def area(self):
        return self.side * self.side

circle = Circle(3)
square = Square(4)
total_area = circle.area + square.area
print("Total Area:", total_area)







C'est comme vouloir manger un gâteau sans le faire cuire !

Imagine que tu as deux recettes de gâteaux :

    Recette du cercle : pour calculer l'aire d'un cercle

    Recette du carré : pour calculer l'aire d'un carré

Tu veux faire la somme de ces deux gâteaux pour avoir l'aire totale.
🔍 Le problème dans le code :

Regarde cette ligne :
python

total_area = circle.area + square.area

C'est comme si tu disais :
"Je veux ajouter la recette du gâteau cercle et la recette du gâteau carré."

Mais ce n'est pas ce que tu veux ! Tu ne veux pas ajouter les recettes (les méthodes), tu veux ajouter les résultats des recettes (les gâteaux cuits) !
Quelle est la différence ?

    circle.area → C'est la recette pour calculer l'aire du cercle

    circle.area() → C'est le résultat du calcul (le gâteau cuit)

Quand tu écris circle.area sans parenthèses (), c'est comme si tu prenais le livre de recettes au lieu de faire le gâteau !
✅ La correction :

Il faut ajouter les parenthèses () pour appeler (utiliser) la méthode et obtenir le résultat du calcul :
python

total_area = circle.area() + square.area()

🔢 Faisons le calcul ensemble :

    Aire du cercle : 3,14 × 3 × 3 = 28,26
    Aire du carré : 4 × 4 = 16
    Aire totale : 28,26 + 16 = 44,26

Le code corrigé :
python

circle = Circle(3)
square = Square(4)
total_area = circle.area() + square.area()  # Ajout des parenthèses !
print("Total Area:", total_area)

Le résultat sera :

Total Area: 44.26

Maintenant, le code fonctionne parce qu'on additionne bien les résultats des calculs et pas les recettes ! C'est comme si on ajoutait deux gâteaux cuits ensemble au lieu d'ajouter deux livres de recettes.







