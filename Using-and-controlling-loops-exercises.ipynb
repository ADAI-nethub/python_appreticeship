{
 "cells": [
  {
   "cell_type": "markdown",
   "id": "d5050581",
   "metadata": {},
   "source": [
    "<div align=\"center\" style=\" font-size: 80%; text-align: center; margin: 0 auto\">\n",
    "<img src=\"https://raw.githubusercontent.com/Explore-AI/Pictures/master/Python-Notebook-Banners/Exercise.png\"  style=\"display: block; margin-left: auto; margin-right: auto;\";/>\n",
    "</div>"
   ]
  },
  {
   "cell_type": "markdown",
   "id": "f662d169",
   "metadata": {},
   "source": [
    "# Exercise: Using and controlling loops\n"
   ]
  },
  {
   "cell_type": "markdown",
   "id": "26af890c",
   "metadata": {},
   "source": [
    "This notebook has a series of exercises testing your ability to solve problems using loops."
   ]
  },
  {
   "cell_type": "markdown",
   "id": "2d230d14",
   "metadata": {
    "tags": []
   },
   "source": [
    "## Learning objectives\n",
    "\n",
    "In this train, we will:\n",
    "- Learn how to create various `for` and `while` loops.\n",
    "- Control the flow of loops.\n",
    "- Build problem-solving skills using loops."
   ]
  },
  {
   "cell_type": "markdown",
   "id": "9f2422a5",
   "metadata": {},
   "source": [
    "## Exercises"
   ]
  },
  {
   "cell_type": "markdown",
   "id": "5a0b7683",
   "metadata": {
    "tags": []
   },
   "source": [
    "### Exercise 1: Marine species counter\n",
    "\n",
    "**Objective:** Use a `for` loop to count the number of endangered marine species in a list.\n"
   ]
  },
  {
   "cell_type": "code",
   "execution_count": 4,
   "id": "ec1c7891",
   "metadata": {},
   "outputs": [
    {
     "name": "stdout",
     "output_type": "stream",
     "text": [
      "Number of endangered marine species: 0\n",
      "Number of endangered marine species: 0\n",
      "Number of endangered marine species: 0\n",
      "Number of endangered marine species: 0\n",
      "Number of endangered marine species: 0\n"
     ]
    }
   ],
   "source": [
    "endangered_marine_species = ['Hawksbill Turtle', 'Vaquita', 'Blue Whale', 'Staghorn Coral', 'Green Turtle']\n",
    "endangered_count = 0\n",
    "\n",
    "# Your task: Use a for loop to count the number of species in the list\n",
    "\n",
    "for species in endangered_marine_species:\n",
    "\n",
    "    # Insert code here\n",
    "\n",
    "    print(f\"Number of endangered marine species: {endangered_count}\")"
   ]
  },
  {
   "cell_type": "markdown",
   "id": "c4d97aa4",
   "metadata": {},
   "source": [
    "**Hint:** Use the loop to iterate over the `endangered_marine_species` list and increment the `endangered_count` variable by 1 for each species."
   ]
  },
  {
   "cell_type": "markdown",
   "id": "17bba74e",
   "metadata": {},
   "source": [
    "### Exercise 2: Deforestation alert\n",
    "\n",
    "**Objective:** Use a `while` loop to simulate a deforestation monitoring system that alerts when the forested area falls below a critical threshold.\n"
   ]
  },
  {
   "cell_type": "code",
   "execution_count": null,
   "id": "b559e1f0",
   "metadata": {},
   "outputs": [
    {
     "name": "stdout",
     "output_type": "stream",
     "text": [
      "SYSTÈME DE SURVEILLANCE DE LA FORÊT \n",
      "La forêt a 1000 arbres au départ\n",
      "---\n",
      "Jour 1: 20 arbres coupés. Il reste 980 arbres\n",
      "Jour 2: 20 arbres coupés. Il reste 960 arbres\n",
      "Jour 3: 20 arbres coupés. Il reste 940 arbres\n",
      "Jour 4: 20 arbres coupés. Il reste 920 arbres\n",
      "Jour 5: 20 arbres coupés. Il reste 900 arbres\n",
      "Jour 6: 20 arbres coupés. Il reste 880 arbres\n",
      "Jour 7: 20 arbres coupés. Il reste 860 arbres\n",
      "Jour 8: 20 arbres coupés. Il reste 840 arbres\n",
      "Jour 9: 20 arbres coupés. Il reste 820 arbres\n",
      "Jour 10: 20 arbres coupés. Il reste 800 arbres\n",
      "Jour 11: 20 arbres coupés. Il reste 780 arbres\n",
      "Jour 12: 20 arbres coupés. Il reste 760 arbres\n",
      "Jour 13: 20 arbres coupés. Il reste 740 arbres\n",
      "Jour 14: 20 arbres coupés. Il reste 720 arbres\n",
      "Jour 15: 20 arbres coupés. Il reste 700 arbres\n",
      "Jour 16: 20 arbres coupés. Il reste 680 arbres\n",
      "Jour 17: 20 arbres coupés. Il reste 660 arbres\n",
      "Jour 18: 20 arbres coupés. Il reste 640 arbres\n",
      "Jour 19: 20 arbres coupés. Il reste 620 arbres\n",
      "Jour 20: 20 arbres coupés. Il reste 600 arbres\n",
      "Jour 21: 20 arbres coupés. Il reste 580 arbres\n",
      "Jour 22: 20 arbres coupés. Il reste 560 arbres\n",
      "Jour 23: 20 arbres coupés. Il reste 540 arbres\n",
      "Jour 24: 20 arbres coupés. Il reste 520 arbres\n",
      "Jour 25: 20 arbres coupés. Il reste 500 arbres\n",
      "Jour 26: 20 arbres coupés. Il reste 480 arbres\n",
      "Jour 27: 20 arbres coupés. Il reste 460 arbres\n",
      "Jour 28: 20 arbres coupés. Il reste 440 arbres\n",
      "Jour 29: 20 arbres coupés. Il reste 420 arbres\n",
      "Jour 30: 20 arbres coupés. Il reste 400 arbres\n",
      "Jour 31: 20 arbres coupés. Il reste 380 arbres\n",
      "Jour 32: 20 arbres coupés. Il reste 360 arbres\n",
      "Jour 33: 20 arbres coupés. Il reste 340 arbres\n",
      "Jour 34: 20 arbres coupés. Il reste 320 arbres\n",
      "Jour 35: 20 arbres coupés. Il reste 300 arbres\n",
      "Jour 36: 20 arbres coupés. Il reste 280 arbres\n",
      "---\n",
      "🔴 ALERTE ROUGE ! 🔴\n",
      "La forêt n'a plus que 280 arbres!\n",
      "C'est en dessous du seuil critique de 300 arbres!\n",
      "Il faut arrêter la déforestation!\n"
     ]
    }
   ],
   "source": [
    "# On commence avec une grande forêt de 1000 arbres\n",
    "foret = 1000\n",
    "\n",
    "# Le nombre minimum d'arbres nécessaires pour que la forêt survive\n",
    "seuil_critique = 300\n",
    "\n",
    "# On compte le nombre de jours qui passent\n",
    "jour = 1\n",
    "\n",
    "print(\"SYSTÈME DE SURVEILLANCE DE LA FORÊT \")\n",
    "print(f\"La forêt a {foret} arbres au départ\")\n",
    "print(\"---\")\n",
    "\n",
    "# Tant que la forêt a assez d'arbres, on continue à surveiller\n",
    "while foret >= seuil_critique:\n",
    "    # Chaque jour, on perd quelques arbres à cause de la déforestation\n",
    "    arbres_perdus = 20  # 20 arbres coupés chaque jour\n",
    "    \n",
    "    # On enlève ces arbres de la forêt\n",
    "    foret = foret - arbres_perdus\n",
    "    \n",
    "    # On affiche ce qui se passe\n",
    "    print(f\"Jour {jour}: {arbres_perdus} arbres coupés. Il reste {foret} arbres\")\n",
    "    \n",
    "    # On attend un jour de plus\n",
    "    jour = jour + 1\n",
    "\n",
    "# ALERTE ! La forêt est en danger !\n",
    "print(\"---\")\n",
    "print(\" ALERTE ROUGE ! \")\n",
    "print(f\"La forêt n'a plus que {foret} arbres!\")\n",
    "print(\"C'est en dessous du seuil critique de\", seuil_critique, \"arbres!\")\n",
    "print(\"Il faut arrêter la déforestation!\")"
   ]
  },
  {
   "cell_type": "code",
   "execution_count": null,
   "id": "b3bb4756",
   "metadata": {},
   "outputs": [
    {
     "name": "stdout",
     "output_type": "stream",
     "text": [
      "Système de Surveillance de la Déforestation\n",
      "===========================================\n",
      "Surface forestière initiale: 1000 km²\n",
      "Taux de déforestation: 20 km² par an\n",
      "Seuil critique: 500 km²\n",
      "\n",
      "Année 0: Surface forestière = 1000 km²\n",
      "Année 1: Surface forestière = 980 km²\n",
      "Année 2: Surface forestière = 960 km²\n",
      "Année 3: Surface forestière = 940 km²\n",
      "Année 4: Surface forestière = 920 km²\n",
      "Année 5: Surface forestière = 900 km²\n",
      "Année 6: Surface forestière = 880 km²\n",
      "Année 7: Surface forestière = 860 km²\n",
      "Année 8: Surface forestière = 840 km²\n",
      "Année 9: Surface forestière = 820 km²\n",
      "Année 10: Surface forestière = 800 km²\n",
      "Année 11: Surface forestière = 780 km²\n",
      "Année 12: Surface forestière = 760 km²\n",
      "Année 13: Surface forestière = 740 km²\n",
      "Année 14: Surface forestière = 720 km²\n",
      "Année 15: Surface forestière = 700 km²\n",
      "Année 16: Surface forestière = 680 km²\n",
      "Année 17: Surface forestière = 660 km²\n",
      "Année 18: Surface forestière = 640 km²\n",
      "Année 19: Surface forestière = 620 km²\n",
      "Année 20: Surface forestière = 600 km²\n",
      "Année 21: Surface forestière = 580 km²\n",
      "Année 22: Surface forestière = 560 km²\n",
      "Année 23: Surface forestière = 540 km²\n",
      "Année 24: Surface forestière = 520 km²\n",
      "Année 25: Surface forestière = 500 km²\n",
      "\n",
      "⚠️  ALERTE: NIVEAU CRITIQUE DE DÉFORESTATION ATTEINT! ⚠️\n",
      "Après 26 ans, la surface forestière est maintenant de 480 km²\n",
      "C'est en dessous du seuil critique de 500 km²!\n",
      "Il faut arrêter la déforestation!\n"
     ]
    }
   ],
   "source": [
    "# Paramètres initiaux de la forêt\n",
    "surface_foret_initial = 1000  # en kilomètres carrés\n",
    "taux_deforestation = 20       # kilomètres carrés par an\n",
    "seuil_critique = 500          # niveau critique en kilomètres carrés\n",
    "\n",
    "# Initialisation des variables\n",
    "surface_actuelle = surface_foret_initial\n",
    "annees = 0\n",
    "\n",
    "print(\"Système de Surveillance de la Déforestation\")\n",
    "print(\"===========================================\")\n",
    "print(f\"Surface forestière initiale: {surface_foret_initial} km²\")\n",
    "print(f\"Taux de déforestation: {taux_deforestation} km² par an\")\n",
    "print(f\"Seuil critique: {seuil_critique} km²\")\n",
    "print()\n",
    "\n",
    "# Surveiller la surface forestière jusqu'à ce qu'elle tombe sous le seuil critique\n",
    "while surface_actuelle >= seuil_critique:\n",
    "    print(f\"Année {annees}: Surface forestière = {surface_actuelle} km²\")\n",
    "    surface_actuelle -= taux_deforestation  # Appliquer la déforestation\n",
    "    annees += 1  # Compter une autre année\n",
    "\n",
    "# Alerte lorsque le seuil critique est dépassé\n",
    "print()\n",
    "print(\"⚠️  ALERTE: NIVEAU CRITIQUE DE DÉFORESTATION ATTEINT! ⚠️\")\n",
    "print(f\"Après {annees} ans, la surface forestière est maintenant de {surface_actuelle} km²\")\n",
    "print(f\"C'est en dessous du seuil critique de {seuil_critique} km²!\")\n",
    "print(\"Il faut arrêter la déforestation!\")\n",
    "\n",
    "#Explication du fonctionnement :\n",
    "#   Initialisation : On commence avec la surface forestière initiale (1000 km²) et on configure nos variables de surveillance.\n",
    "#    Condition de la boucle While : La boucle continue tant que la surface forestière actuelle est égale ou supérieure au seuil critique (500 km²).\n",
    "#    Processus de surveillance : Chaque itération de la boucle représente une année :\n",
    "#        Elle affiche la surface forestière actuelle\n",
    "#        Applique le taux de déforestation (réduit la surface de 20 km²)\n",
    "#        Incrémente le compteur d'années\n",
    "#    Système d'alerte : Quand la surface forestière descend sous 500 km², la boucle s'arrête et le système émet une alerte avec les résultats finaux.\n",
    "#Résultat attendu :\n",
    "#Ce programme affichera l'évolution de la forêt année par année et finalement indiquera qu'il faut 25 ans pour que la forêt passe sous le seuil critique (plus précisément à 480 km²).\n",
    "#Ce système de surveillance illustre parfaitement comment une boucle while peut être utilisée pour modéliser un processus écologique et déclencher une alerte quand une condition critique est atteinte.\n"
   ]
  },
  {
   "cell_type": "markdown",
   "id": "1711f162",
   "metadata": {},
   "source": [
    "**Hint:** In each iteration of the `while` loop, decrease the `initial_forested_area` by `deforestation_rate` and increment the `years` by 1."
   ]
  },
  {
   "cell_type": "markdown",
   "id": "efaae06e",
   "metadata": {},
   "source": [
    "### Exercise 3: Biodiversity analysis\n",
    "\n",
    "**Objective:** Write a `for` loop to analyse a list of animals, printing out whether they are endangered or not."
   ]
  },
  {
   "cell_type": "code",
   "execution_count": 11,
   "id": "13ff9ce0",
   "metadata": {},
   "outputs": [
    {
     "name": "stdout",
     "output_type": "stream",
     "text": [
      "Statut de protection des animaux\n",
      "Statut de protection des animaux\n",
      "Statut de protection des animaux\n",
      "Statut de protection des animaux\n",
      "Statut de protection des animaux\n",
      "================================\n",
      "🐯 Tiger: EN DANGER - Espèce protégée!\n",
      "🐯 Blue Whale: EN DANGER - Espèce protégée!\n",
      "🐯 African Elephant: EN DANGER - Espèce protégée!\n",
      "🐨 Koala: Non menacé - Statut stable\n",
      "🐨 Panda: Non menacé - Statut stable\n"
     ]
    }
   ],
   "source": [
    "animals = ['Tiger', 'Blue Whale', 'African Elephant', 'Koala', 'Panda']\n",
    "endangered_animals = ['Tiger', 'Blue Whale', 'African Elephant']\n",
    "\n",
    "# Your task: Use a for loop to print out each animal's name and its endangered status\n",
    "for animal in animals:\n",
    "   \n",
    "        print(\"Statut de protection des animaux\")\n",
    "print(\"================================\")\n",
    "\n",
    "# Vérifier le statut de chaque animal avec une boucle for\n",
    "for animal in animals:\n",
    "    if animal in endangered_animals:\n",
    "        print(f\"🐯 {animal}: EN DANGER - Espèce protégée!\")\n",
    "    else:\n",
    "        print(f\"🐨 {animal}: Non menacé - Statut stable\")\n",
    "\n",
    "#Explication du code :\n",
    "#    Listes d'animaux :\n",
    "#        animals contient tous les animaux à analyser\n",
    "#        endangered_animals contient seulement les animaux en voie de disparition\n",
    "#    Boucle for :\n",
    "#        for animal in animals: parcourt chaque animal de la liste\n",
    "#    Vérification du statut :\n",
    "#        if animal in endangered_animals: vérifie si l'animal actuel est dans la liste des espèces menacées\n",
    "#        Si oui, il affiche un message indiquant qu'il est en danger\n",
    "#        Sinon, il affiche un message indiquant qu'il n'est pas menacé"
   ]
  },
  {
   "cell_type": "markdown",
   "id": "fd05b0b1",
   "metadata": {},
   "source": [
    "**Hint:** Check if each animal in the `animals` list is also `in` the `endangered_animals` list, and print the appropriate status."
   ]
  },
  {
   "cell_type": "markdown",
   "id": "09a79878",
   "metadata": {},
   "source": [
    "### Exercise 4: Ocean pollution tracker\n",
    "\n",
    "**Objective:** Use loops to process and display information about ocean pollution levels in different regions."
   ]
  },
  {
   "cell_type": "code",
   "execution_count": null,
   "id": "180572c0",
   "metadata": {},
   "outputs": [
    {
     "name": "stdout",
     "output_type": "stream",
     "text": [
      "Niveaux moyens de pollution des océans\n",
      "======================================\n",
      "🌊 Pacific Ocean: Moyenne de pollution = 3.33\n",
      "🌊 Atlantic Ocean: Moyenne de pollution = 4.33\n",
      "🌊 Indian Ocean: Moyenne de pollution = 3.00\n",
      "\n",
      "Analyse terminée!\n"
     ]
    }
   ],
   "source": [
    "ocean_pollution_data = {\n",
    "    'Pacific Ocean': [3, 5, 2],  # pollution levels\n",
    "    'Atlantic Ocean': [7, 2, 4],\n",
    "    'Indian Ocean': [5, 1, 3]\n",
    "}\n",
    "\n",
    "# Your task: Use loops to calculate the average pollution level for each ocean and print it\n",
    "\n",
    "\n",
    "print(\"Niveaux moyens de pollution des océans\")\n",
    "print(\"======================================\")\n",
    "\n",
    "# Boucle à travers chaque océan et ses données de pollution\n",
    "for ocean, pollution_levels in ocean_pollution_data.items():\n",
    "    # Calculer la somme des niveaux de pollution\n",
    "    total_pollution = 0\n",
    "    for level in pollution_levels:  # Boucle interne pour sommer les valeurs\n",
    "        total_pollution += level\n",
    "    \n",
    "    # Calculer la moyenne (somme divisée par nombre d'éléments)\n",
    "    average_pollution = total_pollution / len(pollution_levels)\n",
    "    \n",
    "    # Afficher le résultat\n",
    "    print(f\"🌊 {ocean}: Moyenne de pollution = {average_pollution:.2f}\")\n",
    "\n",
    "print(\"\\nAnalyse terminée!\")\n",
    "\n",
    "#Explication du code :\n",
    " #   Boucle externe : for ocean, pollution_levels in ocean_pollution_data.items():\n",
    "#        Parcourt chaque entrée du dictionnaire\n",
    "#        ocean contient le nom de l'océan (clé)\n",
    "#        pollution_levels contient la liste des niveaux de pollution (valeur)\n",
    "#    Calcul de la moyenne :\n",
    "#        Première version : utilise une boucle interne pour faire la somme manuellement\n",
    "#        Seconde version : utilise la fonction intégrée sum() pour calculer la somme\n",
    "#    Affichage des résultats :\n",
    "#        Formatage à 2 décimales avec :.2f\n",
    "#        Emoji pour une visualisation plus engageante"
   ]
  },
  {
   "cell_type": "markdown",
   "id": "d1a00eaa",
   "metadata": {},
   "source": [
    "**Hint:** Use a `for` loop to sum the pollution levels for each ocean, then calculate and print the average."
   ]
  },
  {
   "cell_type": "markdown",
   "id": "65fd599f",
   "metadata": {},
   "source": [
    "### Exercise 5: Species conservation\n",
    "\n",
    "**Objective:** Implement a `while` loop to simulate a conservation effort, stopping when a certain population target is reached."
   ]
  },
  {
   "cell_type": "code",
   "execution_count": 14,
   "id": "cf960543",
   "metadata": {},
   "outputs": [
    {
     "name": "stdout",
     "output_type": "stream",
     "text": [
      "Simulation de croissance de population\n",
      "======================================\n",
      "Population initiale: 150\n",
      "Population cible: 500\n",
      "Taux de croissance annuel: 7.000000000000006%\n",
      "\n",
      "Année 1: Population = 160\n",
      "Année 2: Population = 171\n",
      "Année 3: Population = 183\n",
      "Année 4: Population = 196\n",
      "Année 5: Population = 210\n",
      "Année 6: Population = 225\n",
      "Année 7: Population = 241\n",
      "Année 8: Population = 258\n",
      "Année 9: Population = 276\n",
      "Année 10: Population = 295\n",
      "Année 11: Population = 316\n",
      "Année 12: Population = 338\n",
      "Année 13: Population = 362\n",
      "Année 14: Population = 387\n",
      "Année 15: Population = 414\n",
      "Année 16: Population = 443\n",
      "Année 17: Population = 474\n",
      "Année 18: Population = 507\n",
      "\n",
      "Années nécessaires pour atteindre la population cible: 18\n",
      "Population finale: 507\n"
     ]
    }
   ],
   "source": [
    "current_population = 150  # d'une espèce en danger\n",
    "target_population = 500\n",
    "years = 0\n",
    "growth_rate = 1.07  # croissance annuelle de 7% grâce aux efforts de conservation\n",
    "\n",
    "print(\"Simulation de croissance de population\")\n",
    "print(\"======================================\")\n",
    "print(f\"Population initiale: {current_population}\")\n",
    "print(f\"Population cible: {target_population}\")\n",
    "print(f\"Taux de croissance annuel: {(growth_rate - 1) * 100}%\")\n",
    "print()\n",
    "\n",
    "# Utiliser une boucle while pour simuler la croissance année par année\n",
    "while current_population < target_population:\n",
    "    # Calculer la nouvelle population après une année de croissance\n",
    "    current_population = current_population * growth_rate\n",
    "    \n",
    "    # Arrondir à l'entier le plus proche (on ne peut pas avoir une fraction d'individu)\n",
    "    current_population = round(current_population)\n",
    "    \n",
    "    # Incrémenter le compteur d'années\n",
    "    years += 1\n",
    "    \n",
    "    # Afficher la progression (optionnel)\n",
    "    print(f\"Année {years}: Population = {current_population}\")\n",
    "\n",
    "print()\n",
    "print(f\"Années nécessaires pour atteindre la population cible: {years}\")\n",
    "print(f\"Population finale: {current_population}\")\n",
    "\n",
    "\n",
    "#Explication du code :\n",
    "#   Condition de la boucle while : while current_population < target_population:\n",
    "#       La boucle continue tant que la population actuelle est inférieure à la population cible\n",
    "#   Calcul de croissance :\n",
    "#        current_population = current_population * growth_rate\n",
    "#        Multiplie la population actuelle par le taux de croissance (1.07 = 7%)\n",
    "#   Arrondissement :\n",
    "#        round(current_population) pour avoir un nombre entier d'individus\n",
    "#   Incrémentation du compteur :\n",
    "#        years += 1 compte le nombre d'années écoulées\n",
    "\n"
   ]
  },
  {
   "cell_type": "markdown",
   "id": "99498807",
   "metadata": {},
   "source": [
    "**Hint:** In each iteration of the `while` loop, multiply the `current_population` by `growth_rate`, and increment `years` by 1."
   ]
  },
  {
   "cell_type": "markdown",
   "id": "f75d4350",
   "metadata": {},
   "source": [
    "### Exercise 6: Basic list comprehension\n",
    "\n",
    "**Instructions:** Fill in the comprehension line to create a list of squares of numbers from 1 to 10."
   ]
  },
  {
   "cell_type": "code",
   "execution_count": 16,
   "id": "0cb026b6",
   "metadata": {},
   "outputs": [
    {
     "name": "stdout",
     "output_type": "stream",
     "text": [
      "[1, 4, 9, 16, 25, 36, 49, 64, 81, 100]\n"
     ]
    }
   ],
   "source": [
    "numbers = range(1, 11)\n",
    "\n",
    "# List comprehension pour générer les carrés\n",
    "squares = [num ** 2 for num in numbers]\n",
    "print(squares)\n",
    "\n",
    "#xplications :\n",
    "#    numbers = range(1, 11) :\n",
    "#        Crée une séquence de nombres de 1 à 10 (11 est exclus)\n",
    "#    List comprehension :\n",
    "#        [num ** 2 : Pour chaque nombre, calcule son carré\n",
    "#        for num in numbers : Itère à travers chaque nombre dans la séquence\n",
    "#        ] : Ferme la list comprehension"
   ]
  },
  {
   "cell_type": "markdown",
   "id": "3bff7e58",
   "metadata": {},
   "source": [
    "### Exercise 7: List comprehension with a conditional\n",
    "\n",
    "**Instructions:** Use list comprehension to create a list of only even numbers from 1 to 20."
   ]
  },
  {
   "cell_type": "code",
   "execution_count": null,
   "id": "566521f1",
   "metadata": {},
   "outputs": [],
   "source": [
    "numbers = range(1, 21)\n",
    "\n",
    "# List comprehension pour filtrer les nombres pairs\n",
    "even_numbers = [x for x in numbers if x % 2 == 0]\n",
    "print(even_numbers)\n",
    "\n",
    "#Explications :\n",
    "#    numbers = range(1, 21) :\n",
    "#        Crée une séquence de nombres de 1 à 20\n",
    "#    List comprehension :\n",
    "#        [x : Prend chaque élément x\n",
    "#        for x in numbers : Itère à travers chaque nombre dans la séquence\n",
    "#        if x % 2 == 0 : Filtre seulement les nombres pairs (divisibles par 2)\n",
    "#        ] : Ferme la list comprehension"
   ]
  },
  {
   "cell_type": "markdown",
   "id": "f077f605",
   "metadata": {},
   "source": [
    "### Exercise 8: Dictionary comprehension\n",
    "\n",
    "**Instructions:** Create a dictionary that categorises each marine animal in the list as 'Aquatic' using dictionary comprehension."
   ]
  },
  {
   "cell_type": "code",
   "execution_count": null,
   "id": "b86bdd38",
   "metadata": {},
   "outputs": [
    {
     "name": "stdout",
     "output_type": "stream",
     "text": [
      "{'Dolphin': 'Aquatic', 'Shark': 'Aquatic', 'Turtle': 'Aquatic'}\n"
     ]
    }
   ],
   "source": [
    "marine_animals = ['Dolphin', 'Shark', 'Turtle']\n",
    "\n",
    "# Dictionary comprehension pour créer le dictionnaire\n",
    "animal_categories = {animal: 'Aquatic' for animal in marine_animals}\n",
    "print(animal_categories)\n",
    "\n",
    "#Explications :\n",
    "#   {animal: 'Aquatic' : Pour chaque animal, crée une paire clé-valeur où :\n",
    "#        La clé est l'animal (animal)\n",
    "#        La valeur est la catégorie 'Aquatic'\n",
    "#    for animal in marine_animals : Itère à travers chaque animal dans la liste"
   ]
  },
  {
   "cell_type": "markdown",
   "id": "1101dc22",
   "metadata": {},
   "source": [
    "### Exercise 9: Data mapping with dictionary comprehension\n",
    "Quite often in data science working with data in key-value pairs like dictionaries is simpler. Often we have to use data from lists to create these data structures. We can use dictionary comprehension to map data from two lists together.\n",
    "\n",
    "**Instructions:** Use dictionary comprehension to create a mapping of each marine species to its conservation status based on the given lists. Only include species marked as 'Endangered'."
   ]
  },
  {
   "cell_type": "code",
   "execution_count": null,
   "id": "a4843a03",
   "metadata": {},
   "outputs": [],
   "source": [
    "species = ['Dolphins', 'Whales', 'Sea Turtles', 'Seals']\n",
    "status = ['Endangered', 'Vulnerable', 'Endangered', 'Least Concern']\n",
    "number_of_species = range(len(species))\n",
    "\n",
    "# Dictionary comprehension pour filtrer les espèces en danger\n",
    "endangered_species = {species[i]: status[i] for i in number_of_species if status[i] == 'Endangered'}\n",
    "print(endangered_species)\n",
    "\n",
    "#Explications :\n",
    "#    {species[i]: status[i] : Pour chaque index, crée une paire clé-valeur où :\n",
    "#        La clé est l'espèce (species[i])\n",
    "#        La valeur est le statut (status[i])\n",
    "#    for i in number_of_species : Itère à travers chaque index (0, 1, 2, 3)\n",
    "#    if status[i] == 'Endangered' : Filtre seulement les espèces avec le statut \"Endangered\""
   ]
  },
  {
   "cell_type": "markdown",
   "id": "74d77441",
   "metadata": {},
   "source": [
    "## Solutions"
   ]
  },
  {
   "cell_type": "markdown",
   "id": "21fa4420",
   "metadata": {},
   "source": [
    "### Exercise 1: Marine species counter\n",
    "\n",
    "**Explanation:** The `for` loop iterates through each item in the `endangered_marine_species` list. For each iteration, it increments the endangered_count by 1. Finally, it prints the total count."
   ]
  },
  {
   "cell_type": "code",
   "execution_count": null,
   "id": "e67079fe",
   "metadata": {},
   "outputs": [],
   "source": [
    "endangered_marine_species = ['Hawksbill Turtle', 'Vaquita', 'Blue Whale', 'Staghorn Coral', 'Green Turtle']\n",
    "\n",
    "endangered_count = 0\n",
    "for species in endangered_marine_species:\n",
    "    endangered_count += 1\n",
    "print(f\"Number of endangered marine species: {endangered_count}\")"
   ]
  },
  {
   "cell_type": "markdown",
   "id": "61223fc3",
   "metadata": {},
   "source": [
    "### Exercise 2: Deforestation alert\n",
    "\n",
    "**Explanation:** The `while` loop runs as long as the `initial_forested_area` is greater than `500`. Each year, the forested area decreases by the `deforestation_rate`, and the `years` counter increases by 1.\n"
   ]
  },
  {
   "cell_type": "code",
   "execution_count": null,
   "id": "bf7ad4e1",
   "metadata": {},
   "outputs": [],
   "source": [
    "initial_forested_area = 1000  # in square kilometres\n",
    "deforestation_rate = 20       # square kilometres per year\n",
    "\n",
    "years = 0\n",
    "while initial_forested_area > 500:\n",
    "    initial_forested_area -= deforestation_rate\n",
    "    years += 1\n",
    "print(f\"Years until critical deforestation level: {years}\")"
   ]
  },
  {
   "cell_type": "markdown",
   "id": "951173c0",
   "metadata": {},
   "source": [
    "### Exercise 3: Biodiversity analysis\n",
    "\n",
    "**Explanation:** The `for` loop iterates through the animals list. For each animal, it checks if that animal is in the `endangered_animals` list and prints whether it is endangered or not."
   ]
  },
  {
   "cell_type": "code",
   "execution_count": null,
   "id": "7f035d45",
   "metadata": {},
   "outputs": [],
   "source": [
    "animals = ['Tiger', 'Blue Whale', 'African Elephant', 'Koala', 'Panda']\n",
    "endangered_animals = ['Tiger', 'Blue Whale', 'African Elephant']\n",
    "\n",
    "for animal in animals:\n",
    "    if animal in endangered_animals:\n",
    "        print(f\"{animal} is endangered.\")\n",
    "    else:\n",
    "        print(f\"{animal} is not endangered.\")"
   ]
  },
  {
   "cell_type": "markdown",
   "id": "5da17f19",
   "metadata": {
    "vscode": {
     "languageId": "plaintext"
    }
   },
   "source": [
    "### Exercise 4: Ocean pollution tracker\n",
    "\n",
    "**Explanation:** The `for` loop iterates through the oceans dictionary. The `items()` method helps to split the dictionary into the `ocean` and `pollution_levels` keys and values, respectively. For each ocean, we calculate the total pollution level, and then the average pollution level by dividing it by the length of the `pollution_levels` list."
   ]
  },
  {
   "cell_type": "code",
   "execution_count": null,
   "id": "621a1076",
   "metadata": {},
   "outputs": [],
   "source": [
    "ocean_pollution_data = {\n",
    "    'Pacific Ocean': [3, 5, 2],  # pollution levels\n",
    "    'Atlantic Ocean': [7, 2, 4],\n",
    "    'Indian Ocean': [5, 1, 3]\n",
    "}\n",
    "\n",
    "for ocean, pollution_levels in ocean_pollution_data.items():\n",
    "    total_pollution = sum(pollution_levels)\n",
    "    average_pollution = total_pollution / len(pollution_levels)\n",
    "    print(f\"Average pollution level in the {ocean}: {average_pollution:.2f}\")"
   ]
  },
  {
   "cell_type": "markdown",
   "id": "ec346942",
   "metadata": {},
   "source": [
    "### Exercise 5: Species conservation\n",
    "\n",
    "**Explanation:** The `while` loop continues as long as the `current_population` is less than the `target_population`. Each year, the population grows by 7% due to conservation efforts, and the `years` counter is incremented."
   ]
  },
  {
   "cell_type": "code",
   "execution_count": null,
   "id": "693e95dd",
   "metadata": {},
   "outputs": [],
   "source": [
    "current_population = 150  # of a particular endangered species\n",
    "target_population = 500\n",
    "years = 0\n",
    "growth_rate = 1.07\n",
    "\n",
    "while current_population < target_population:\n",
    "    current_population *= growth_rate\n",
    "    years += 1\n",
    "print(f\"Years to reach target population: {years}\")"
   ]
  },
  {
   "cell_type": "markdown",
   "id": "a862decb",
   "metadata": {},
   "source": [
    "### Exercise 6: Basic list comprehension\n",
    "\n",
    "**Explanation:** This list comprehension iterates over a range of numbers from 1 to 10 `(range(1, 11))` and squares each number `(x**2)`. The result is a list of squares from 1 to 100."
   ]
  },
  {
   "cell_type": "code",
   "execution_count": null,
   "id": "c37edd57",
   "metadata": {},
   "outputs": [],
   "source": [
    "numbers = range(1, 11)\n",
    "# Fill in the list comprehension\n",
    "squares = [x**2 for x in numbers]\n",
    "print(squares)"
   ]
  },
  {
   "cell_type": "markdown",
   "id": "f1483dc9",
   "metadata": {},
   "source": [
    "### Exercise 7: List comprehension with a conditional\n",
    "\n",
    "**Explanation:** This comprehension checks each number in the range from 1 to 20 `(range(1, 21))` and includes it in the list if it is even `(if x % 2 == 0)`."
   ]
  },
  {
   "cell_type": "code",
   "execution_count": null,
   "id": "63e9a0b8",
   "metadata": {},
   "outputs": [],
   "source": [
    "numbers = range(1, 21)\n",
    "even_numbers = [x for x in numbers if x % 2 == 0]\n",
    "print(even_numbers)"
   ]
  },
  {
   "cell_type": "markdown",
   "id": "8703ea11",
   "metadata": {},
   "source": [
    "### Exercise 8: Dictionary comprehension\n",
    "**Explanation:** This dictionary comprehension iterates over each animal in the `marine_animals` list. For each animal, it creates a key-value pair where the key is the animal's name and the value is the string `Aquatic`."
   ]
  },
  {
   "cell_type": "code",
   "execution_count": null,
   "id": "c4d53406",
   "metadata": {},
   "outputs": [],
   "source": [
    "marine_animals = ['Dolphin', 'Shark', 'Turtle']\n",
    "# Desired Output: {'Dolphin': 'Aquatic', 'Shark': 'Aquatic', 'Turtle': 'Aquatic'}\n",
    "\n",
    "animal_categories = {animal: 'Aquatic' for animal in marine_animals}\n",
    "print(animal_categories)"
   ]
  },
  {
   "cell_type": "markdown",
   "id": "8d34ceba",
   "metadata": {},
   "source": [
    "### Exercise 9: Data mapping with dictionary comprehension\n",
    "\n",
    "**Explanation:** This dictionary comprehension iterates over the indices of the species list (using `range(len(species))`). For each index `i`, it checks if the corresponding status in the status list is `Endangered`. If so, it includes the species-status pair in the resulting dictionary. The output is a dictionary of endangered species mapped to their conservation status."
   ]
  },
  {
   "cell_type": "code",
   "execution_count": null,
   "id": "51b15d76",
   "metadata": {},
   "outputs": [],
   "source": [
    "species = ['Dolphins', 'Whales', 'Sea Turtles', 'Seals']\n",
    "status = ['Endangered', 'Vulnerable', 'Endangered', 'Least Concern']\n",
    "# Desired Output: {'Dolphins': 'Endangered', 'Sea Turtles': 'Endangered'}\n",
    "number_of_species = range(len(species))\n",
    "\n",
    "endangered_species = {species[i]: status[i] for i in number_of_species if status[i] == 'Endangered'}\n",
    "print(endangered_species)"
   ]
  },
  {
   "cell_type": "markdown",
   "id": "e9956efe",
   "metadata": {
    "tags": []
   },
   "source": [
    "## Summary\n",
    "\n",
    "This notebook provided a comprehensive and engaging exploration of using loops in Python to solve a variety of problems. Through a series of exercises, we gained practical experience with both `for` and `while` loops, as well as list and dictionary comprehension."
   ]
  },
  {
   "cell_type": "markdown",
   "id": "26fd094b-0fee-46f1-a4b8-73766813c42b",
   "metadata": {
    "tags": []
   },
   "source": [
    "#  \n",
    "\n",
    "<div align=\"center\" style=\" font-size: 80%; text-align: center; margin: 0 auto\">\n",
    "<img src=\"https://raw.githubusercontent.com/Explore-AI/Pictures/refs/heads/master/ALX_banners/ALX_Navy.png\"  style=\"width:140px\";/>\n",
    "</div>"
   ]
  }
 ],
 "metadata": {
  "kernelspec": {
   "display_name": "Python 3",
   "language": "python",
   "name": "python3"
  },
  "language_info": {
   "codemirror_mode": {
    "name": "ipython",
    "version": 3
   },
   "file_extension": ".py",
   "mimetype": "text/x-python",
   "name": "python",
   "nbconvert_exporter": "python",
   "pygments_lexer": "ipython3",
   "version": "3.10.12"
  }
 },
 "nbformat": 4,
 "nbformat_minor": 5
}
